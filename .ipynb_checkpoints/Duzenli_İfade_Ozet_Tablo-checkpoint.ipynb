{
 "cells": [
  {
   "cell_type": "markdown",
   "id": "28a401d1",
   "metadata": {},
   "source": [
    "# Düzenli İfadeler Özet Tablosu (Regular Expressions Cheat Sheet)\n",
    "\n",
    "## Sabitleyiciler\n",
    "\n",
    "|Simge| Desen Açıklaması | Örnek Desen | Eşleşen Örnek | Açıklama |\n",
    "|---|---|---|---|---|\n",
    "| ^ | Çok satırlı desende ya da bir karakter dizisinin **başlangıç verisini** belirtir. |`^r` |**r**ecep |Sadece kendinden sonra gelen BİR karaktere BAKMIYOR. Farklı Paragraflarda arama yapar.|\n",
    "|\\A | Sadece karakter dizisinin **(Dizenin) başlangıcını** belirtir. |`\\Ar` |**r**amazan | Sadece Kelime dizisinde  arama yapar, paragrafa bakmaz.|\n",
    "|$ |  Çok satırlı desenin ya da dizelerin nasıl **biteceğini** belirtir. |`zan$` |rama**zan** |Sadece kendinden önceki BİR karaktere BAKMIYOR |\n",
    "|\\Z | Karakter dizisinin nasıl **biteceğini** belirtir. |`\\Zan`    |ramaz**an** | |\n",
    "|\\b | Kelime **başlangıcını** belirtir                  |`\\bman`    |**man**zara | |\n",
    "|\\b | Kelime **bitimini** belirtir                      |`man\\b`    | za**man**| | | \n",
    "|\\b | Kelime **kesin sınırını** belirtir                |`\\bhalil\\b`| **\"halil.\"**, **\"(halil)\"** ve  \"adım **halil** demiştim.\"| karakter dizini iiçinde tam kelime eşleşmesi arar |\n",
    "|\\B | `\\b` nin tam tersidir.                            |'py\\B'     |**\"python, py3, py2\"** |`py` ile BİTMEYENLERİ göster demiş olduk. **\"py,\" , \"py.\"** ve **\"py!\"** ile eşleşmez |\n",
    "|\\B | `\\b` nin tam tersidir. `\\B...\\B` şeklinde kullanımına dair örnek         |'\\Ber\\B'     |başında ve sonunda `er` OLMAYAN kelimeleri seçtik. **\"Sertaç\"** |**\"erkek,\"**, **seher**,  ve **\"şeker\"** ile eşleşmez, çünkü bu kelimeler **er** ile başlıyor ya da bitiyor. |"
   ]
  },
  {
   "cell_type": "markdown",
   "id": "5b3fe2bb",
   "metadata": {},
   "source": [
    "## Karakter Türleri\n",
    "\n",
    "|Simge| Desen Açıklaması | Örnek Desen | Eşleşen Örnek | Açıklama |\n",
    "|--- |---|---|---|---|\n",
    "|`.` | herhangi bir tek karakterle eşleşir | | | |\n",
    "|`\\d`| herhangi bir rakamla (digit) eşleşir | | | |\n",
    "|`\\D`| rakam olmayan herhangi bir karakterle eşleşir| | | |\n",
    "|`\\w`| herhangi bir kelime karakteriyle (word) eşleşir (alfanümerik karakterler ve alt çizgi). | | |`[a-zA-Z0-9_]` ifadesine eşittir.|\n",
    "|`\\W`| alfanümerik karakterler ve alt çizgi dışındaki karakterlerle eşleşir| | |`\\w` 'nin tersidir. |\n",
    "|`\\s`| herhangi bir (space) boşluk karakteriyle (boşluk, sekme, yeni satır vb.) eşleşir.| | | |\n",
    "|`\\S`| boşluk karakteri (boşluk, sekme, yeni satır vb.) dışında karakterle eşleşir.| | | `\\s` 'nin tersidir.|\n",
    "|`\\metacharacter`| Metakarakterle eşleşecek bir karakterle eşleşir. | | |`\\.` ifadesi nokta karakteri arar. |"
   ]
  },
  {
   "cell_type": "markdown",
   "id": "b15c90e6",
   "metadata": {},
   "source": [
    "## Karakter Sınıfları\n",
    "\n",
    "|Simge| Desen Açıklaması | Örnek Desen | Eşleşen Örnek | Açıklama |\n",
    "|---|---|---|---|---|\n",
    "|`[xy]`|Köşeli parantez içindeki her bir karakteri eşleştirir.|`h[au]y`|**hay, huy**||\n",
    "|`[x-y]`|`-` ile belirtilen karakter aralığındaki her bir karakteri eşleştirir.|`se[h-r]+`|**seher, sertaç**|**se** 'den sonra **h** ile **r** arasındaki tüm harfler gelebilir.|\n",
    "|`[^xy]`|`^` simgesi köşeli parantez içinde kullanıldığında **HARİÇ TUT** anlamına gelir.|`se[^h-m]+`|**sertaç**|**se** 'den sonra **h** ile **m** arasındaki hiçbir harfler **GELEMEZ**|\n",
    "|`[\\^\\.]`|karakter sınıfı içindeki metakarakterleri eşleştir.|`.+\\.`|2.345|İçinde **.** (nokta) olan ifadeyle eşleşir.|\n"
   ]
  },
  {
   "cell_type": "markdown",
   "id": "a6a2018b",
   "metadata": {},
   "source": [
    "## Tekrar / Yineleme / Kopya\n",
    "\n",
    "|Simge| Desen Açıklaması | Örnek Desen | Eşleşen Örnek | Açıklama |\n",
    "|---|---|---|---|---|\n",
    "|`*`|Kendinden önce gelen karakteri SIFIR veya daha fazla sayıda eşleştirir. |`sa*t`|st, s**a**t, s**aa**t, s**aaa**t||\n",
    "|`+`|Kendisinden önce gelen karakteri BİR veya DAHA FAZLA sayıda eşleştirir.|`.+met`|ah**met**, meh**met**||\n",
    "|`?`|Kendisinden önce gelen karakterin SIFIR veya BİR defa eşleştirir.|`sa?t`|st, s**a**t||\n",
    "|`{}`|||||\n",
    "||||||\n",
    "||||||\n",
    "||||||\n",
    "||||||\n",
    "||||||\n",
    "||||||\n",
    "||||||"
   ]
  },
  {
   "cell_type": "markdown",
   "id": "2cb5a248",
   "metadata": {},
   "source": [
    "## Yakalama, değiştirme ve geri referanslar\n",
    "\n",
    "|Simge| Desen Açıklaması | Örnek Desen | Eşleşen Örnek | Açıklama |\n",
    "|---|---|---|---|---|\n",
    "||||||\n",
    "||||||\n",
    "||||||\n",
    "||||||\n",
    "||||||\n",
    "||||||\n",
    "||||||\n",
    "||||||\n",
    "||||||\n",
    "||||||\n",
    "||||||"
   ]
  },
  {
   "cell_type": "markdown",
   "id": "04dffc58",
   "metadata": {},
   "source": [
    "## İleriye Dönük\n",
    "\n",
    "|Simge| Desen Açıklaması | Örnek Desen | Eşleşen Örnek | Açıklama |\n",
    "|---|---|---|---|---|\n",
    "||||||\n",
    "||||||\n",
    "||||||\n",
    "||||||\n",
    "||||||\n",
    "||||||\n",
    "||||||\n",
    "||||||\n",
    "||||||\n",
    "||||||\n",
    "||||||"
   ]
  },
  {
   "cell_type": "markdown",
   "id": "974bbab4",
   "metadata": {},
   "source": [
    "## Değişmez eşleşmeler ve değiştiriciler\n",
    "\n",
    "|Simge| Desen Açıklaması | Örnek Desen | Eşleşen Örnek | Açıklama |\n",
    "|---|---|---|---|---|\n",
    "||||||\n",
    "||||||\n",
    "||||||\n",
    "||||||\n",
    "||||||\n",
    "||||||\n",
    "||||||\n",
    "||||||\n",
    "||||||\n",
    "||||||\n",
    "||||||"
   ]
  },
  {
   "cell_type": "markdown",
   "id": "8157e804",
   "metadata": {},
   "source": [
    "## Unicode\n",
    "\n",
    "|Simge| Desen Açıklaması | Örnek Desen | Eşleşen Örnek | Açıklama |\n",
    "|---|---|---|---|---|\n",
    "||||||\n",
    "||||||\n",
    "||||||\n",
    "||||||\n",
    "||||||\n",
    "||||||\n",
    "||||||\n",
    "||||||\n",
    "||||||\n",
    "||||||\n",
    "||||||"
   ]
  },
  {
   "cell_type": "markdown",
   "id": "4a76bda8",
   "metadata": {},
   "source": [
    "## Kaynak:\n",
    "* https://www.datacamp.com/cheat-sheet/regular-expresso\n",
    "* https://docs.python.org/tr/3/library/re.html#module-re"
   ]
  },
  {
   "cell_type": "code",
   "execution_count": 17,
   "id": "d483deee",
   "metadata": {},
   "outputs": [
    {
     "name": "stdout",
     "output_type": "stream",
     "text": [
      "2.345\n"
     ]
    }
   ],
   "source": [
    "import re\n",
    "\n",
    "x = \"seher sertaç erkek şeker 2.345\"\n",
    "\n",
    "ds = r\".+\\.\"\n",
    "\n",
    "for i in x.split():\n",
    "    if re.findall(ds, i):\n",
    "        print(i)"
   ]
  },
  {
   "cell_type": "code",
   "execution_count": null,
   "id": "01553502",
   "metadata": {},
   "outputs": [],
   "source": []
  }
 ],
 "metadata": {
  "kernelspec": {
   "display_name": "Python 3 (ipykernel)",
   "language": "python",
   "name": "python3"
  },
  "language_info": {
   "codemirror_mode": {
    "name": "ipython",
    "version": 3
   },
   "file_extension": ".py",
   "mimetype": "text/x-python",
   "name": "python",
   "nbconvert_exporter": "python",
   "pygments_lexer": "ipython3",
   "version": "3.10.12"
  }
 },
 "nbformat": 4,
 "nbformat_minor": 5
}
