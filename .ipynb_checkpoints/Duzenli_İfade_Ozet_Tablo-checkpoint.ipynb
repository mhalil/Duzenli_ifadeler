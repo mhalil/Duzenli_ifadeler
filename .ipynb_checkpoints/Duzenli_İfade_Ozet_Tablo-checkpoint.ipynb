{
 "cells": [
  {
   "cell_type": "markdown",
   "id": "28a401d1",
   "metadata": {},
   "source": [
    "# Düzenli İfadeler Özet Tablosu (Regular Expressions Cheat Sheet)\n",
    "\n",
    "## Sabitleyiciler / Sınırlayıcılar\n",
    "\n",
    "|Simge| Desen Açıklaması | Örnek Desen | Eşleşen Örnek | Açıklama |\n",
    "|---|---|---|---|---|\n",
    "| `^` | Çok satırlı desende ya da bir karakter dizisinin **başlangıç verisini** belirtir. |`^rec` |**rec**ep |Sadece kendinden sonra gelen BİR karaktere BAKMIYOR. Desenin tümüne bakıyor. Farklı Paragraflarda arama yapar.|\n",
    "|`\\A` | Sadece karakter dizisinin **(Dizenin) başlangıcını** belirtir. |`\\Ar` |**r**amazan | Sadece Kelime dizisinde  arama yapar, paragrafa bakmaz.|\n",
    "|`$` |  Çok satırlı desenin ya da dizelerin nasıl **biteceğini** belirtir. |`zan$` |rama**zan** |Sadece kendinden önceki BİR karaktere BAKMIYOR, tüm desene bakıyor. |\n",
    "|`\\Z` | Karakter dizisinin nasıl **biteceğini** belirtir. |`an\\Z`    |ramaz**an** | Kelime, kendinden önceki desen (**an**) ile bitmeli.|\n",
    "|`\\b` | Kelime **başlangıcını** belirtir                  |`\\bman`    |**man**zara | Kelimenin **man** ile **başlaması** gerektiğini belirtiyor. |\n",
    "|`\\b` | Kelime **bitimini** belirtir                      |`man\\b`    | za**man**| Kelimenin **man** ile **bitmesi** gerektiğini belirtiyor.| \n",
    "|`\\b` | Kelime **kesin sınırını** belirtir                |`\\bHalil\\b`| **\"Halil.\"**, **\"(Halil)\"** ve  \"adım **Halil** demiştim.\"| Karakter dizini içinde tam kelime eşleşmesi arar. **Halili** kelimesi desen ile eşleşmez çünkü kelime içinde başka harf te bulunuyor. Noktalama işaretleri, parantez,...vb karakterler harf olmadığı için sorun oluşturmuyor. |\n",
    "|`\\B` | `\\b` nin tam tersidir.                            |'py\\B'     |**\"python, py3, py2\"** |`py` içeren ancak `py` ile BİTMEYENLERİ göster demiş olduk. **\"py,\" , \"py.\"** ve **\"py!\"** ile eşleşmez |\n",
    "|`\\B` | `\\b` nin tam tersidir. `\\B...\\B` şeklinde kullanımına dair örnek         |'\\Ber\\B'     |**\"Sertaç\"** `er` ibaresi kelimenin içinde olacak ancak başında ve sonunda OLMAYACAK. |**\"erkek,\"**, **seher**,  ve **\"şeker\"** kelimeleri eşleşmez, çünkü bu kelimeler **er** ibaresi kelimelerin başında ya da sonunda bulunuyor. Sadece içinde **er** ibaresi olan kelimeler eşleşir. |"
   ]
  },
  {
   "cell_type": "markdown",
   "id": "5b3fe2bb",
   "metadata": {},
   "source": [
    "## Karakter Türleri\n",
    "\n",
    "|Simge| Desen Açıklaması | Örnek Desen | Eşleşen Örnek | Açıklama |\n",
    "|--- |---|---|---|---|\n",
    "|`.` | herhangi bir tek karakterle eşleşir |`\"öz.an\"` |öz**c**an, öz**k**an, öz**h**an |**öz** ile başla ardından herhangi BİR karakter gelsin **an** ile bitsin. |\n",
    "|`\\d`| herhangi bir rakamla (digit) eşleşir |`\"\\d{2}\"`|**41**, **60**, **65** |2 tane rakam yanyana gelsin.|\n",
    "|`\\D`| rakam olmayan herhangi bir karakterle eşleşir|`\"-\\D\"` |**-A**, **-$** |Tire (-) olsun ardından rakam olmayan bir karakter gelsin. |\n",
    "|`\\w`| herhangi bir kelime karakteriyle (word) eşleşir (alfanümerik karakterler ve alt çizgi). |`\"\\w{3}\"` |**TR_** , **015** , **Vn4**  |`[a-zA-Z0-9_]` ifadesine eşittir.|\n",
    "|`\\W`| alfanümerik karakterler ve alt çizgi dışındaki karakterlerle eşleşir|`\"\\d\\W\"` |**9&**, **1+**, **3]** |`\\w` 'nin tersidir. `[^a-zA-Z0-9_]` ifadesine eşittir. |\n",
    "|`\\s`| herhangi bir (space) boşluk karakteriyle (boşluk, sekme, yeni satır vb.) eşleşir.|`\"\\d\\s\\w\"` |**5 W**, **7 a** |Bir rakam, ardından bir boşluk ve son olarak alfanümerik karakter ile eşleş. |\n",
    "|`\\S`| boşluk karakteri (boşluk, sekme, yeni satır vb.) dışında karakterle eşleşir.|`\"\\d+\\S\\w+\"` |**2Nisan**, **1-Ocak** | `\\s` 'nin tersidir. Başta Rakam olsun, sonrasında Boşluk dışında bir karakter gelsin ve onu bir veya daha fazla alfanumerik karakter takip etsin.|\n",
    "|`\\metacharacter`| Metakarakterle eşleşecek bir karakterle eşleşir. |`\"\\d\\.\\w+\"` |**3.14**, **6.Mart** |`\\.` ifadesi nokta karakteri arar. `\\\\` ifadesi `\\` karakterini arar.|"
   ]
  },
  {
   "cell_type": "markdown",
   "id": "b15c90e6",
   "metadata": {},
   "source": [
    "## Karakter Sınıfları\n",
    "\n",
    "|Simge| Desen Açıklaması | Örnek Desen | Eşleşen Örnek | Açıklama |\n",
    "|---|---|---|---|---|\n",
    "|`[xy]`|Köşeli parantez içindeki her bir karakteri eşleştirir.|`h[au]y`|**hay, huy**||\n",
    "|`[x-y]`|`-` ile belirtilen karakter aralığındaki her bir karakteri eşleştirir.|`se[h-r]+`|**seher, sertaç**|**se** 'den sonra **h** ile **r** arasındaki tüm harfler gelebilir.|\n",
    "|`[^xy]`|`^` simgesi köşeli parantez içinde kullanıldığında **HARİÇ TUT** anlamına gelir.|`se[^h-m]+`|**sertaç**|**se** 'den sonra **h** ile **m** arasındaki hiçbir harfler **GELEMEZ**|\n",
    "|`[^.]` | Karakter sınıfı içindeki metakarakterleri eşleştir.|`.+[.^]`|**2.345**, **3^2**, **py.** |İçinde **.** (nokta) olan ifadeyle eşleşir. Köşeli parantez dışında meta karakterleri eşleştirirken kaçış dizisi olan ters taksim \\ sembolü kullanılmalı.|\n"
   ]
  },
  {
   "cell_type": "markdown",
   "id": "a6a2018b",
   "metadata": {},
   "source": [
    "## Tekrar / Yineleme / Kopya\n",
    "\n",
    "|Simge| Desen Açıklaması | Örnek Desen | Eşleşen Örnek | Açıklama |\n",
    "|---|---|---|---|---|\n",
    "|`*`|Kendinden önce gelen karakteri SIFIR veya DAHA FAZLA sayıda eşleştirir. |`sa*t`|st, s**a**t, s**aa**t, s**aaa**t|`a` karakteri **hiç** olmasada, **birden fazla** kez olsa da olur.|\n",
    "|`+`|Kendisinden önce gelen karakteri BİR veya DAHA FAZLA sayıda eşleştirir.|`.+met`|ah**met**, meh**met**|`met` karakter dizisinden önce **BİR veya DAHA FAZLA** karakter bulunsun.|\n",
    "|`?`|Kendisinden önce gelen karakterin SIFIR veya BİR defa eşleştirir.|`sa?t`|st, s**a**t|`a` karakteri ya **HİÇ** olmasın ya da **BİR** tane olsun.|\n",
    "|`{}`|Bir eşleşmeden kaç adet istediğimizi belirtebiliyoruz.|`sa{3}t`|s**aaa**t|`a` karakteri **3 kez** tekrar etsin|\n",
    "|`{x,}`|Bir karakterin **en az** kaç kez tekrar etmesini istediğimizi belirtebiliriz|`sa{2,}t`|s**aa**t, s**aaa**t|`a` karakteri 2 ve daha fazla tekrar etsin.|\n",
    "|`{x,y}`|Bir karakterin **en az ve en çok** kaç kez tekrar etmesini istediğimizi belirtebiliriz|`sa{1,2}t`|s**a**t, s**aa**t|`a` karakteri **en az BİR, en fazla İKİ** kez bulunsun.|\n",
    "||||||\n"
   ]
  },
  {
   "cell_type": "markdown",
   "id": "2cb5a248",
   "metadata": {},
   "source": [
    "## Gruplama, Yakalama, değiştirme ve geri referanslar\n",
    "\n",
    "|Simge| Desen Açıklaması | Örnek Desen | Eşleşen Örnek | Açıklama |\n",
    "|---|---|---|---|---|\n",
    "|`(x)`|Bir deseni gruplamak için kullanılır|`\\w+(li)+\\w+`|a**li**, ha**li**l, ha**lili**|`(li)+` ile birden fazla karakteri grup olarak ayarlayıp, **li** ifadesinden birden fazla var mı? ya da `(li){3}` deseni ile **li** ifadesinden peşpeşe 3 tane  var mı? diye aratabiliyoruz.|\n",
    "|`(?:x)`|Yakalamadan grup oluşturur. |`(?:us)(ta)`|M**usta**fa|`us` ifadesini `group()` metodunu kullanarak yakalayamayız. `group() = group(0)` yani tüm eşleşmeyi yazdırır. `group(1)` ifadesi **ta** yı işaret eder, yani ilk eşleşmeyi.|\n",
    "|`(?P<isim>x)`|Adlandırılmış bir yakalama grubu oluştur|(?P\\<birinci>\\d{2})(?P\\<ikinci>\\d{2})|Eşleşen: **1325**, \"birinci\": 13, \"ikinci\": 25|`..group(1)` yerine, `...group(\"birinci\")` yazarak eşleşme bölümlerine ulaşılabilir. Dikkat edin adlar, `group()` metodu içerisine **çift tırnak içinde** yazılmalı.|\n",
    "|`(x\\|y)`|Düzenli ifade kalıplarını gruplar.|`a(b\\|l)i`|a**l**i, a**b**i| **a**'dan sonra **b** ya da **l** gelsin, desen **i** ile bisin|\n",
    "|`(x-y)`|Düzenli ifade kalıplarını bir aralık dahilinde gruplar.|`(a-g)l`|**a**lim, **e**lim| desen **a** ile **g** arasındaki tüm harflerle başlasın, **lim** ifadesi ile bitsin.|\n",
    "||||||\n",
    "||||||"
   ]
  },
  {
   "cell_type": "markdown",
   "id": "4a76bda8",
   "metadata": {},
   "source": [
    "## Kaynak:\n",
    "* https://www.datacamp.com/cheat-sheet/regular-expresso\n",
    "* https://docs.python.org/tr/3/library/re.html#module-re\n",
    "* https://www.youtube.com/watch?v=V3Jr2sAHNno&list=WL&index=36&t=10"
   ]
  },
  {
   "cell_type": "code",
   "execution_count": 8,
   "id": "d483deee",
   "metadata": {},
   "outputs": [
    {
     "name": "stdout",
     "output_type": "stream",
     "text": [
      "abc\n",
      "xyz\n"
     ]
    }
   ],
   "source": [
    "import re\n",
    "\n",
    "metin = \"\"\"recep ramazan Seher (Halil) \n",
    "maznzara Sertaç Halili Mustafa -$ -A\n",
    "12547879872132562\n",
    "zaman erkek Halil. şeker 2.345 \n",
    "python, py3, py2 py py. py!\"\"\"\n",
    "\n",
    "x = \"mustafa\"\n",
    "\n",
    "desen = r\"\\Ber\\B\"\n",
    "desen = r\"^rec\"\n",
    "desen = r\"\\Az\"\n",
    "desen = r\"py!$\"\n",
    "desen = r\"\\Z py!\"\n",
    "desen = r\"alil\\b\"\n",
    "desen = r\"(?:us)(ta)\"\n",
    "desen = r\"-\\D\"\n",
    "desen = r\".+[.-]+\"\n",
    "#desen = r\"(?<birinci>\\d)(?<ikinci>\\d)+\"\n",
    "desen = r\"(?P<uclu>\\d{3})(?P<ikili>\\d{2})\"\n",
    "\n",
    "desen = r\"(us)(ta)\"\n",
    "\n",
    "a = re.search(desen, x)\n",
    "a.group(2)\n",
    "\n",
    "#for kelime in metin.split():\n",
    " #   if (re.search(desen, kelime)):\n",
    "  #      print(kelime)\n",
    "\n",
    "#re.findall(desen, metin)\n",
    "\n",
    "#es = re.finditer(desen, metin)\n",
    "#for i in es:\n",
    "#    print(i.group(\"uclu\"))\n",
    "\n",
    "\n",
    "veri = \"\"\"650-654-7544 Mustafa Halil 650524495 65080976 08069114 656037422 6504476824 6508000010\n",
    " 6501552207 (650)605 09 96 650-537-82-34 6503320122 650_919_64 650-abc-7425 6509318724 6502184706\n",
    " 650-xyz-1653 6501921596\"\"\"\n",
    "\n",
    "desen = r\"(\\d{3})-([a-z]{3})-(\\d{4})\"\n",
    "eslesen = re.finditer(desen, veri)\n",
    "\n",
    "for es in eslesen:\n",
    "    print(es.group(2))"
   ]
  },
  {
   "cell_type": "markdown",
   "id": "04dffc58",
   "metadata": {},
   "source": [
    "## İleriye Dönük\n",
    "\n",
    "|Simge| Desen Açıklaması | Örnek Desen | Eşleşen Örnek | Açıklama |\n",
    "|---|---|---|---|---|\n",
    "||||||\n",
    "||||||\n",
    "||||||\n",
    "||||||\n",
    "||||||\n",
    "||||||\n",
    "||||||\n",
    "||||||\n",
    "||||||\n",
    "||||||\n",
    "||||||"
   ]
  },
  {
   "cell_type": "markdown",
   "id": "974bbab4",
   "metadata": {},
   "source": [
    "## Değişmez eşleşmeler ve değiştiriciler\n",
    "\n",
    "|Simge| Desen Açıklaması | Örnek Desen | Eşleşen Örnek | Açıklama |\n",
    "|---|---|---|---|---|\n",
    "||||||\n",
    "||||||\n",
    "||||||\n",
    "||||||\n",
    "||||||\n",
    "||||||\n",
    "||||||\n",
    "||||||\n",
    "||||||\n",
    "||||||\n",
    "||||||"
   ]
  },
  {
   "cell_type": "markdown",
   "id": "8157e804",
   "metadata": {},
   "source": [
    "## Unicode\n",
    "\n",
    "|Simge| Desen Açıklaması | Örnek Desen | Eşleşen Örnek | Açıklama |\n",
    "|---|---|---|---|---|\n",
    "||||||\n",
    "||||||\n",
    "||||||\n",
    "||||||\n",
    "||||||\n",
    "||||||\n",
    "||||||\n",
    "||||||\n",
    "||||||\n",
    "||||||\n",
    "||||||"
   ]
  }
 ],
 "metadata": {
  "kernelspec": {
   "display_name": "Python 3 (ipykernel)",
   "language": "python",
   "name": "python3"
  },
  "language_info": {
   "codemirror_mode": {
    "name": "ipython",
    "version": 3
   },
   "file_extension": ".py",
   "mimetype": "text/x-python",
   "name": "python",
   "nbconvert_exporter": "python",
   "pygments_lexer": "ipython3",
   "version": "3.10.12"
  }
 },
 "nbformat": 4,
 "nbformat_minor": 5
}
