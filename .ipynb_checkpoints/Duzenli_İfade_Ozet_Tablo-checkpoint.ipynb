{
 "cells": [
  {
   "cell_type": "markdown",
   "id": "28a401d1",
   "metadata": {},
   "source": [
    "# Düzenli İfadeler Özet Tablosu (Regular Expressions Cheat Sheet)\n",
    "\n",
    "## Sabitleyiciler\n",
    "\n",
    "|Simge| Desen Açıklaması | Örnek Desen | Eşleşen Örnek | Açıklama |\n",
    "|---|---|---|---|---|\n",
    "| ^ | Çok satırlı desende ya da bir karakter dizisinin **başlangıç verisini** belirtir. |`^r` |**r**ecep |Sadece kendinden sonra gelen BİR karaktere BAKMIYOR. Farklı Paragraflarda arama yapar.|\n",
    "|\\A | Sadece karakter dizisinin **(Dizenin) başlangıcını** belirtir. |`\\Ar` |**r**amazan | Sadece Kelime dizisinde  arama yapar, paragrafa bakmaz.|\n",
    "|$ |  Çok satırlı desenin ya da dizelerin nasıl **biteceğini** belirtir. |`zan$` |ramaza**n** |Sadece kendinden önceki BİR karaktere BAKMIYOR |\n",
    "|\\Z | Karakter dizisinin nasıl **biteceğini** belirtir. |`\\Zan`    |ramaz**an** | |\n",
    "|\\b | Kelime **başlangıcını** belirtir                  |`\\bman`    |**man**zara | |\n",
    "|\\b | Kelime **bitimini** belirtir                      |`man\\b`    | za**man**| | | \n",
    "|\\b | Kelime **kesin sınırını** belirtir                |`\\bhalil\\b`| **\"halil.\"**, **\"(halil)\"** ve  \"adım **halil** demiştim.\"| karakter dizini iiçinde tam kelime eşleşmesi arar |\n",
    "|\\B | `\\b` nin tam tersidir.                            |'py\\B'     |**\"python, py3, py2\"** |**\"py, py.\"** ve **\"py!\"** ile eşleşmez |\n",
    "|\\B | `\\b` nin tam tersidir. `\\B...\\B` şeklinde kullanımına dair örnek         |'\\Ber\\B'     |**\"seher, Sertaç\"** |**\"erkek,\"** ve **\"şeker\"** ile eşleşmez, çünkü bu kelimeler **er** ile başlıyor ya da bitiyor. |"
   ]
  },
  {
   "cell_type": "markdown",
   "id": "5b3fe2bb",
   "metadata": {},
   "source": [
    "## Karakter Türleri\n"
   ]
  },
  {
   "cell_type": "markdown",
   "id": "b15c90e6",
   "metadata": {},
   "source": [
    "## Karakter Sınıfları"
   ]
  },
  {
   "cell_type": "markdown",
   "id": "a6a2018b",
   "metadata": {},
   "source": [
    "## Tekrar / Yineleme / Kopya"
   ]
  },
  {
   "cell_type": "markdown",
   "id": "2cb5a248",
   "metadata": {},
   "source": [
    "## Yakalama, değiştirme ve geri referanslar"
   ]
  },
  {
   "cell_type": "markdown",
   "id": "04dffc58",
   "metadata": {},
   "source": [
    "## İleriye Dönük"
   ]
  },
  {
   "cell_type": "markdown",
   "id": "974bbab4",
   "metadata": {},
   "source": [
    "## Değişmez eşleşmeler ve değiştiriciler"
   ]
  },
  {
   "cell_type": "markdown",
   "id": "8157e804",
   "metadata": {},
   "source": [
    "## Unicode"
   ]
  },
  {
   "cell_type": "code",
   "execution_count": null,
   "id": "d483deee",
   "metadata": {},
   "outputs": [],
   "source": []
  }
 ],
 "metadata": {
  "kernelspec": {
   "display_name": "Python 3 (ipykernel)",
   "language": "python",
   "name": "python3"
  },
  "language_info": {
   "codemirror_mode": {
    "name": "ipython",
    "version": 3
   },
   "file_extension": ".py",
   "mimetype": "text/x-python",
   "name": "python",
   "nbconvert_exporter": "python",
   "pygments_lexer": "ipython3",
   "version": "3.10.12"
  }
 },
 "nbformat": 4,
 "nbformat_minor": 5
}
