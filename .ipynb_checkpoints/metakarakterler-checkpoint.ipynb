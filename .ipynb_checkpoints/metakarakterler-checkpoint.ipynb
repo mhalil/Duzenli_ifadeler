{
 "cells": [
  {
   "cell_type": "markdown",
   "id": "ae014b49",
   "metadata": {},
   "source": [
    "## Metakarakterler (Özel Karakterler)\n",
    "\n",
    "Metakarakterler; kabaca, programlama dilleri için özel anlam ifade eden sembollerdir. Örneğin `\\n` bir bakıma bir metakarakterdir, çünkü `\\n` sembolü Python programlama dili için özel bir anlam taşır. Python bu sembolü gördüğü yerde yeni bir satıra geçer. Metakarakterler, **Kendisiyle eşleşmeyen karakterler** olarak ifade edilebilir. Örneğin, **a** harfi yalnızca kendisiyle eşleşir. Tıpkı **istihza** kelimesinin yalnızca kendisiyle eşleşeceği gibi. Ancak mesela `\\t` ifadesi kendisiyle eşleşmez. Python bu işareti gördüğü yerde sekme (tab) düğmesine basılmış gibi tepki verecektir. İşte düzenli ifadelerde de buna benzer metakarakterlerden yararlanacağız. Düzenli ifadeler içinde de, özel anlam ifade eden pek çok sembol, yani metakarakter vardır. Şimdi bu meta karakterleri ayrı ayrı başlıklar altında inceleyelim."
   ]
  },
  {
   "cell_type": "markdown",
   "id": "2eb2dadc",
   "metadata": {},
   "source": [
    "## [] Köşeli Parantez\n",
    "\n",
    "İlk inceleyeceğimiz metakarakterlerden biri Köşeli Parantez `[ ]` sembolüdür. \n",
    "Python, **köşeli parantez içinde gördüğü bütün karakterleri tek tek liste öğelerine uygular.**\n",
    "\n",
    "Şimdi aşağıdaki listeden **özcan**, **özhan** ve **özkan** öğelerini bu sembolden yararlanarak nasıl ayıklayacağımızı görelim:"
   ]
  },
  {
   "cell_type": "code",
   "execution_count": 1,
   "id": "f297b749",
   "metadata": {},
   "outputs": [
    {
     "name": "stdout",
     "output_type": "stream",
     "text": [
      "özcan\n",
      "özkan\n",
      "özhan\n"
     ]
    }
   ],
   "source": [
    "import re\n",
    "\n",
    "liste = [\"özcan\", \"mehmet\", \"süleyman\", \"selim\", \"kemal\", \"özkan\", \"esra\", \"dündar\", \"esin\", \"esma\", \"özhan\", \n",
    "         \"özlem\"]\n",
    "\n",
    "for i in liste:\n",
    "    nesne = re.search(\"öz[chk]an\", i)\n",
    "    if nesne:\n",
    "        print(nesne.group())"
   ]
  },
  {
   "cell_type": "markdown",
   "id": "bec76c40",
   "metadata": {},
   "source": [
    "Yukarıdaki örnekte, bir liste içinde geçen **özcan**, **özhan** ve **özkan** öğelerini ayıklıyoruz. Burada bu üç öğedeki farklı karakterleri (**c**, **h** ve **k**) köşeli parantez içinde nasıl belirttiğimize dikkat edin. \n",
    "\n",
    "Python, köşeli parantez içinde gördüğü bütün karakterleri tek tek liste öğelerine uyguluyor. Önce **öz** ile başlayan bütün öğeleri alıyor, ardından **öz** hecesinden sonra **c** harfiyle devam eden ve **an** hecesi ile biten öğeyi buluyor. Böylece **özcan** öğesini bulmuş oldu. \n",
    "\n",
    "Aynı işlemi, **öz** hecesinden sonra **h** harfini barındıran ve **an** hecesiyle biten öğeye uyguluyor. Bu şekilde ise **özhan** öğesini bulmuş oldu. \n",
    "\n",
    "En son hedef ise **öz** ile başlayıp **k** harfi ile devam eden ve **an** ile biten öğe. Yani listedeki **özkan** öğesi… En nihayetinde de elimizde **özcan**, **özhan** ve **özkan** öğeleri kalmış oluyor.\n",
    "\n",
    "Yeni bir örnek ile devam edelim."
   ]
  },
  {
   "cell_type": "code",
   "execution_count": 1,
   "id": "bbb16c20",
   "metadata": {},
   "outputs": [],
   "source": [
    "a = [\"23BH56\",\"TY76Z\",\"4Y7UZ\",\"TYUDZ\",\"34534\"]"
   ]
  },
  {
   "cell_type": "markdown",
   "id": "3148c120",
   "metadata": {},
   "source": [
    "Mesela biz bu listedeki öğeler içinde, sayıyla başlayanları ayıklayalım:"
   ]
  },
  {
   "cell_type": "code",
   "execution_count": 4,
   "id": "5f3f4050",
   "metadata": {},
   "outputs": [
    {
     "name": "stdout",
     "output_type": "stream",
     "text": [
      "23BH56\n",
      "4Y7UZ\n",
      "34534\n"
     ]
    }
   ],
   "source": [
    "for i in a:\n",
    "    if re.match(\"[0-9]\",i):\n",
    "        print(i)"
   ]
  },
  {
   "cell_type": "markdown",
   "id": "ce4a87ec",
   "metadata": {},
   "source": [
    "Burada parantez içinde kullandığımız ifadeye dikkat edin. **0** ile **9** arasındaki bütün öğeleri içeren bir karakter dizisi tanımladık. Yani kısaca, içinde herhangi bir sayı barındıran öğeleri kapsama alanımıza aldık. Burada ayrıca `search()` yerine `match()` metodunu kullandığımıza da dikkat edin. `match()` metodunu kullanmamızın nedeni, bu metodun bir karakter dizisinin sadece en başına bakması. Amacımız sayı ile başlayan bütün öğeleri ayıklamak olduğuna göre, yukarıda yazdığımız kod, liste öğeleri içinde yer alan ve sayı ile başlayan bütün öğeleri ayıklayacaktır.\n",
    "\n",
    "Şimdi de isterseniz listedeki **TY76Z** öğesini nasıl alabileceğimize bakalım:"
   ]
  },
  {
   "cell_type": "code",
   "execution_count": 5,
   "id": "77d26d01",
   "metadata": {},
   "outputs": [
    {
     "name": "stdout",
     "output_type": "stream",
     "text": [
      "TY76Z\n"
     ]
    }
   ],
   "source": [
    "for i in a:\n",
    "    if re.match(\"[A-Z][A-Z][0-9]\",i):\n",
    "        print(i)"
   ]
  },
  {
   "cell_type": "markdown",
   "id": "e8e9d7f6",
   "metadata": {},
   "source": [
    "Burada dikkat ederseniz düzenli ifademizin başında **A-Z** diye bir şey yazdık. Bu ifade “A” ile “Z” harfleri arasındaki bütün karakterleri temsil ediyor. Biz burada yalnızca büyük harfleri sorguladık. Eğer küçük harfleri sorgulamak isteseydik **A-Z** yerine **a-z** diyecektik. \n",
    "\n",
    "Düzenli ifademiz içinde geçen birinci “A-Z” ifadesi aradığımız karakter dizisi olan “TY76Z” içindeki “T” harfini, ikinci “A-Z” ifadesi “Y” harfini, “0-9” ifadesi ise “7” sayısını temsil ediyor. Karakter dizisi içindeki geri kalan harfler ve sayılar otomatik olarak eşleştirilecektir. O yüzden onlar için ayrı bir şey yazmaya gerek yok. Yalnız bu söylediğimiz son şey sizi aldatmasın. Bu “otomatik eşleştirme” işlemi bizim şu anda karşı karşıya olduğumuz karakter dizisi için geçerlidir. Farklı nitelikteki karakter dizilerinin söz konusu olduğu başka durumlarda işler böyle yürümeyebilir. Düzenli ifadeleri başarılı bir şekilde kullanabilmenin ilk şartı, üzerinde işlem yapılacak karakter dizisini tanımaktır. Bizim örneğimizde yukarıdaki gibi bir düzenli ifade kalıbı oluşturmak işimizi görüyor. Ama başka durumlarda, duruma uygun başka kalıplar yazmak gerekebilir/gerekecektir. Dolayısıyla, tek bir düzenli ifade kalıbıyla hayatın geçmeyeceğini unutmamalıyız.\n",
    "\n",
    "Bu arada, düzenli ifadelerle ilgili daha fazla şey öğrendiğimizde yukarıdaki kodu çok daha sade bir biçimde yazabileceğiz."
   ]
  },
  {
   "cell_type": "markdown",
   "id": "d5f4a46f",
   "metadata": {},
   "source": [
    "## . Nokta\n",
    "\n",
    "Bu metakarakter, **yeni satır karakteri hariç bütün karakterleri temsil etmek için kullanılır.**  `.` metakarakteri, **sadece tek bir karakterin yerini tutar**. Aşağıdaki örneği inceleyelim:"
   ]
  },
  {
   "cell_type": "code",
   "execution_count": 7,
   "id": "934d3810",
   "metadata": {},
   "outputs": [
    {
     "name": "stdout",
     "output_type": "stream",
     "text": [
      "özcan\n",
      "özkan\n",
      "özhan\n"
     ]
    }
   ],
   "source": [
    "for i in liste:\n",
    "    nesne = re.match(\"öz.an\",i)\n",
    "    if nesne:\n",
    "        print(nesne.group())"
   ]
  },
  {
   "cell_type": "markdown",
   "id": "7eb0ede6",
   "metadata": {},
   "source": [
    "Gördüğünüz gibi, daha önce `[]` metakarakterini kullanarak yazdığımız bir düzenli ifadeyi bu kez farklı şekilde yazıyoruz. Unutmayın, bir düzenli ifade birkaç farklı şekilde yazılabilir. Biz bunlar içinde en basit ve en anlaşılır olanını seçmeliyiz. Ayrıca yukarıdaki kodu birkaç farklı şekilde de yazabilirsiniz. Mesela şu yazım da bizim durumumuzda geçerli bir seçenek olacaktır:"
   ]
  },
  {
   "cell_type": "code",
   "execution_count": 8,
   "id": "79bf0c3f",
   "metadata": {},
   "outputs": [
    {
     "name": "stdout",
     "output_type": "stream",
     "text": [
      "özcan\n",
      "özkan\n",
      "özhan\n"
     ]
    }
   ],
   "source": [
    "for i in liste:\n",
    "    if re.match(\"öz.an\",i):\n",
    "        print(i)"
   ]
  },
  {
   "cell_type": "markdown",
   "id": "f769b15b",
   "metadata": {},
   "source": [
    "Yalnız, unutmamamız gereken şey, bu `.` adlı metakarakterin sadece tek bir karakterin yerini tutuyor olmasıdır. Yani şöyle bir kullanım bize istediğimiz sonucu vermez:"
   ]
  },
  {
   "cell_type": "code",
   "execution_count": 10,
   "id": "5916791c",
   "metadata": {},
   "outputs": [],
   "source": [
    "liste = [\"ahmet\",\"kemal\", \"kamil\", \"mehmet\"]\n",
    "\n",
    "for i in liste:\n",
    "    if re.match(\".met\",i):\n",
    "        print(i)"
   ]
  },
  {
   "cell_type": "markdown",
   "id": "fea3cf58",
   "metadata": {},
   "source": [
    "Burada `.` sembolü “ah” ve “meh” hecelerinin yerini tutamaz. `.` sembolünün görevi sadece tek bir karakterin yerini tutmaktır (yeni satır karakteri hariç). Ama biraz sonra öğreneceğimiz metakarakter yardımıyla “ah” ve “meh” hecelerinin yerini de tutabileceğiz.\n",
    "\n",
    "`.` sembolünü kullanarak bir örnek daha yapalım."
   ]
  },
  {
   "cell_type": "code",
   "execution_count": 12,
   "id": "942e50d6",
   "metadata": {},
   "outputs": [
    {
     "name": "stdout",
     "output_type": "stream",
     "text": [
      "23BH56\n",
      "34534\n",
      "1agAY54\n"
     ]
    }
   ],
   "source": [
    "a = ['23BH56', 'TY76Z', '4Y7UZ', 'TYUDZ', '34534', \"1agAY54\"]\n",
    "\n",
    "for i in a:\n",
    "    if re.match(\".[0-9a-z]\", i):\n",
    "        print(i)"
   ]
  },
  {
   "cell_type": "markdown",
   "id": "c31e9c97",
   "metadata": {},
   "source": [
    "Burada yaptığımız şey çok basit. Şu özelliklere sahip bir karakter dizisi arıyoruz:\n",
    "\n",
    "1. Herhangi bir karakter ile başlayacak. Bu karakter sayı, harf veya başka bir karakter olabilir.\n",
    "2. Ardından bir sayı veya alfabedeki küçük harflerden herhangi birisi gelecek.\n",
    "3. Bu ölçütleri karşıladıktan sonra, aradığımız karakter dizisi herhangi bir karakter ile devam edebilir.\n",
    "\n",
    "Yukarıdaki ölçütlere uyan karakter dizilerimiz: “23BH56”, “34534”, “1agAY54”"
   ]
  },
  {
   "cell_type": "markdown",
   "id": "492a85ef",
   "metadata": {},
   "source": [
    "## * Yıldız\n",
    "\n",
    "Bu metakarakter, **kendinden önce gelen karakteri SIFIR veya daha fazla** sayıda eşleştirir. Tanımı biraz karışık olsa da örnek yardımıyla bunu da anlayacağız:"
   ]
  },
  {
   "cell_type": "code",
   "execution_count": 3,
   "id": "cef7b5a0",
   "metadata": {},
   "outputs": [
    {
     "name": "stdout",
     "output_type": "stream",
     "text": [
      "st\n",
      "sat\n",
      "saat\n",
      "saaat\n"
     ]
    }
   ],
   "source": [
    "yeniliste = [\"st\", \"sat\", \"saat\", \"saaat\", \"falanca\"]\n",
    "\n",
    "for i in yeniliste:\n",
    "    if re.match(\"sa*t\",i):\n",
    "        print(i)"
   ]
  },
  {
   "cell_type": "markdown",
   "id": "cf2179f2",
   "metadata": {},
   "source": [
    "Burada `*` sembolü kendinden önce gelen `a` karakterini sıfır veya daha fazla sayıda eşleştiriyor. Yani mesela `st` içinde sıfır adet `a` karakteri var. Dolayısıyla bu karakter yazdığımız düzenli ifadeyle eşleşiyor. `sat` içinde bir adet `a` karakteri var. Dolayısıyla bu da eşleşiyor. `saat` ve `saaat` karakter dizilerinde sırasıyla iki ve üç adet `a` karakteri var. Tabii ki bunlar da yazdığımız düzenli ifadeyle eşleşiyor. Listemizin en son öğesi olan `falanca`da da ilk hecede bir adet `a` karakteri var. Ama bu öğedeki sorun, bunun `s` harfiyle başlamaması. Çünkü biz yazdığımız düzenli ifadede, aradığımız şeyin `s` harfi ile başlamasını, sıfır veya daha fazla sayıda `a` karakteri ile devam etmesini ve ardından da `t` harfinin gelmesini istemiştik. `falanca` öğesi bu koşulları karşılamadığı için süzgecimizin dışında kaldı.\n",
    "\n",
    "`s` harfinin de sıfır veya daha fazla sayıda eşleşmesini istersek düzenli ifademizi `s*a*t` veya `[sa]*t` biçiminde yazmamız gerekir. Bu iki seçenek içinde `[sa]*t` şeklindeki yazımı tercih etmenizi tavsiye ederim. \n",
    "\n",
    "Bir başka örnek inceleyelim:"
   ]
  },
  {
   "cell_type": "code",
   "execution_count": 4,
   "id": "c0353fae",
   "metadata": {},
   "outputs": [
    {
     "name": "stdout",
     "output_type": "stream",
     "text": [
      "ahmet\n",
      "mehmet\n"
     ]
    }
   ],
   "source": [
    "liste = [\"ahmet\", \"kemal\", \"kamil\", \"mehmet\"]\n",
    "\n",
    "for i in liste:\n",
    "    if re.match(\".*met\", i):\n",
    "        print(i)"
   ]
  },
  {
   "cell_type": "markdown",
   "id": "c07f1db4",
   "metadata": {},
   "source": [
    "Gördüğünüz gibi `ahmet` ve `mehmet` öğelerini başarıyla ayıkladık. Bunu yapmamızı sağlayan şey de `*` adlı metakarakter oldu. Burada Python’a şu emri verdik: *Bana kelime başında herhangi bir karakteri (`.` sembolü herhangi bir karakterin yerini tutuyor) sıfır veya daha fazla sayıda içeren ve sonu da `met` ile biten bütün öğeleri ver!*\n",
    "\n",
    "Kısaca ifade etmek gerekirse, bu komut sayesinde, sonu `met` ile biten her şey (`met` ifadesinin kendisi de dâhil olmak üzere) kapsama alanımıza girecektir."
   ]
  },
  {
   "cell_type": "markdown",
   "id": "473b6ad9",
   "metadata": {},
   "source": [
    "## + Artı\n",
    "\n",
    "`+` metakarakteri **kendisinden önce gelen karakteri BİR veya DAHA FAZLA sayıda** tekrar eden karakterleri ayıklar."
   ]
  },
  {
   "cell_type": "code",
   "execution_count": 5,
   "id": "089836dd",
   "metadata": {},
   "outputs": [
    {
     "name": "stdout",
     "output_type": "stream",
     "text": [
      "ahmet\n",
      "mehmet\n"
     ]
    }
   ],
   "source": [
    "liste = [\"ahmet\", \"mehmet\", \"met\", \"kezban\"]\n",
    "\n",
    "for i in liste:\n",
    "    if re.match(\".+met\",i):\n",
    "        print(i)"
   ]
  },
  {
   "cell_type": "code",
   "execution_count": 6,
   "id": "87ca477f",
   "metadata": {},
   "outputs": [
    {
     "name": "stdout",
     "output_type": "stream",
     "text": [
      "sat\n",
      "saat\n",
      "saaat\n"
     ]
    }
   ],
   "source": [
    "yeniliste = [\"st\", \"sat\", \"saat\", \"saaat\", \"falanca\"]\n",
    "\n",
    "for i in yeniliste:\n",
    "    if re.match(\"sa+t\", i):\n",
    "        print(i)"
   ]
  },
  {
   "cell_type": "code",
   "execution_count": 7,
   "id": "bc78bd46",
   "metadata": {},
   "outputs": [
    {
     "name": "stdout",
     "output_type": "stream",
     "text": [
      "TY76Z\n"
     ]
    }
   ],
   "source": [
    "a = [\"23BH56\", \"TY76Z\", \"4Y7UZ\", \"TYUDZ\", \"34534\"]\n",
    "\n",
    "for i in a:\n",
    "    if re.match(\"[A-Z]+[0-9]\",i):\n",
    "        print(i)"
   ]
  },
  {
   "cell_type": "markdown",
   "id": "a3ee29e1",
   "metadata": {},
   "source": [
    "## ? Soru İşareti\n",
    "\n",
    "`?` metakarakteri, **kendisinden önce gelen karakterin SIFIR veya BİR defa** eşleştiği durumları kapsar. Örneğe bakalım:"
   ]
  },
  {
   "cell_type": "code",
   "execution_count": 8,
   "id": "6f56729c",
   "metadata": {},
   "outputs": [
    {
     "name": "stdout",
     "output_type": "stream",
     "text": [
      "st\n",
      "sat\n"
     ]
    }
   ],
   "source": [
    "yeniliste = [\"st\", \"sat\", \"saat\", \"saaat\", \"falanca\"]\n",
    "\n",
    "for i in yeniliste:\n",
    "    if re.match(\"sa?t\",i):\n",
    "        print(i)"
   ]
  },
  {
   "cell_type": "markdown",
   "id": "9cf85393",
   "metadata": {},
   "source": [
    "Şimdi bu metakarakteri kullanarak gerçek hayatta karşımıza çıkabilecek bir örnek verelim. Bu metakarakterin tanımına tekrar bakarsak, **olsa da olur olmasa da olur** diyebileceğimiz durumlar için bu metakarakterin rahatlıkla kullanılabileceğini görürüz. \n",
    "\n",
    "Şöyle bir örnek verelim: Diyelim ki bir metin üzerinde arama yapacaksınız. Aradığınız kelime `uluslararası`:"
   ]
  },
  {
   "cell_type": "code",
   "execution_count": 9,
   "id": "1ac852b1",
   "metadata": {},
   "outputs": [],
   "source": [
    "metin = \"\"\"Uluslararası hukuk, uluslar arası ilişkiler altında bir disiplindir. Uluslararası ilişkilerin hukuksal \n",
    "boyutunu bilimsel bir disiplin içinde inceler. Devletlerarası hukuk da denir. Ancak uluslar arası ilişkilere yeni\n",
    "aktörlerin girişi bu dalı sadece devletlerarası olmaktan çıkarmıştır.\"\"\""
   ]
  },
  {
   "cell_type": "markdown",
   "id": "3b855a36",
   "metadata": {},
   "source": [
    "Şimdi yapmak istediğimiz şey `uluslararası` kelimesini bulmak. Ama dikkat ederseniz metin içinde `uluslararası` kelimesi aynı zamanda `uluslar arası` şeklinde de geçiyor. Bizim bu iki kullanımı da kapsayacak bir düzenli ifade yazmamız gerekecek."
   ]
  },
  {
   "cell_type": "code",
   "execution_count": 10,
   "id": "d2390b77",
   "metadata": {},
   "outputs": [
    {
     "name": "stdout",
     "output_type": "stream",
     "text": [
      "Uluslararası\n",
      "uluslar arası\n",
      "Uluslararası\n",
      "uluslar arası\n"
     ]
    }
   ],
   "source": [
    "nesne = re.findall(\"[Uu]luslar ?arası\", metin)\n",
    "\n",
    "for i in nesne:\n",
    "    print(i)"
   ]
  },
  {
   "cell_type": "markdown",
   "id": "1adad75b",
   "metadata": {},
   "source": [
    "Verdiğimiz düzenli ifade kalıbını dikkatlice inceleyin. Bildiğiniz gibi, `?` metakarakteri, kendinden önce gelen karakterin **sıfır veya bir kez** geçtiği durumları arıyor. Burada `?` sembolünü ` ` karakterinden, yani `boşluk` karakterinden sonra kullandık. Dolayısıyla, *boşluk karakterinin sıfır veya bir kez geçtiği durumları* hedefledik. Bu şekilde hem `uluslar arası` hem de `uluslararası` kelimesini ayıklamış olduk. Düzenli ifademizde ayrıca `[Uu]` yazdık, çünkü metnimiz içinde `uluslararası` kelimesinin büyük harfle başladığı yerler de var. Bildiğiniz gibi, `uluslar` ve `Uluslar` kelimeleri asla aynı değildir. Dolayısıyla hem `u` harfini hem de `U` harfini bulmak için, daha önce öğrendiğimiz `[]` metakarakterini kullanıyoruz."
   ]
  },
  {
   "cell_type": "markdown",
   "id": "7654478e",
   "metadata": {},
   "source": [
    "## {} Küme Parantezi\n",
    "\n",
    "{ } Küme Parantezi metakarakterimiz yardımıyla **bir eşleşmeden kaç adet istediğimizi** belirtebiliyoruz. Yine aynı örnek üzerinden gidelim:"
   ]
  },
  {
   "cell_type": "code",
   "execution_count": 11,
   "id": "d7a78c12",
   "metadata": {},
   "outputs": [
    {
     "name": "stdout",
     "output_type": "stream",
     "text": [
      "saaat\n"
     ]
    }
   ],
   "source": [
    "for i in yeniliste:\n",
    "    if re.match(\"sa{3}t\",i):\n",
    "        print(i)"
   ]
  },
  {
   "cell_type": "markdown",
   "id": "d1c5fcfb",
   "metadata": {},
   "source": [
    "Burada `a` karakterinin **3 kez** tekrar etmesini istediğimizi belirttik. Python da bu emrimizi hemen yerine getirdi.\n",
    "\n",
    "Bu metakarakterin ilginç bir özelliği daha vardır. Küme içinde iki farklı sayı yazarak, **bir karakterin en az ve en çok** kaç kez tekrar etmesini istediğimizi belirtebiliriz. Örneğin:"
   ]
  },
  {
   "cell_type": "code",
   "execution_count": 12,
   "id": "43d9f808",
   "metadata": {},
   "outputs": [
    {
     "name": "stdout",
     "output_type": "stream",
     "text": [
      "st\n",
      "sat\n",
      "saat\n",
      "saaat\n"
     ]
    }
   ],
   "source": [
    "for i in yeniliste:\n",
    "    if re.match(\"sa{0,3}t\",i):\n",
    "        print(i)"
   ]
  },
  {
   "cell_type": "markdown",
   "id": "6197e26d",
   "metadata": {},
   "source": [
    "`sa{0,3}t` ifadesiyle, `a` harfinin en az sıfır kez, en çok da üç kez tekrar etmesini istediğimiz söyledik. Dolayısıyla, “a” harfinin sıfır, bir, iki ve üç kez tekrar ettiği durumlar ayıklanmış oldu. "
   ]
  },
  {
   "cell_type": "markdown",
   "id": "4023ad90",
   "metadata": {},
   "source": [
    "## ^ Şapka\n",
    "\n",
    "`^` sembolünün iki işlevi var. Birinci işlevi, **Çok satırlı desende ya da bir karakter dizisinin en başındaki veriyi sorgulamaktır**. Yani aslında `match()` metodunun varsayılan olarak yerine getirdiği işlevi bu metakarakter yardımıyla `search()` metodunda da kullanabiliyoruz. **Sadece kendinden sonra gelen BİR karaktere BAKMIYOR**."
   ]
  },
  {
   "cell_type": "code",
   "execution_count": 14,
   "id": "394a533b",
   "metadata": {},
   "outputs": [
    {
     "name": "stdout",
     "output_type": "stream",
     "text": [
      "TY7\n"
     ]
    }
   ],
   "source": [
    "a = ['23BH56', 'TY76Z', '4Y7UZ', 'TYUDZ', '34534', '1agAY54']\n",
    "\n",
    "for i in a:\n",
    "    nesne = re.search(\"^[A-Z]+[0-9]\",i)\n",
    "    if nesne:\n",
    "        print(nesne.group())"
   ]
  },
  {
   "cell_type": "markdown",
   "id": "8904ac23",
   "metadata": {},
   "source": [
    "Gördüğünüz gibi, `^` (şapka) metakarakteri `search()` metodunun, karakter dizilerinin sadece en başına bakmasını sağladı. O yüzden de bize sadece, `TY7` çıktısını verdi. \n",
    "\n",
    "Aynı kodu, şapkasız olarak, şu şekilde kullanırsak:"
   ]
  },
  {
   "cell_type": "code",
   "execution_count": 15,
   "id": "78dc005e",
   "metadata": {},
   "outputs": [
    {
     "name": "stdout",
     "output_type": "stream",
     "text": [
      "BH5\n",
      "TY7\n",
      "Y7\n",
      "AY5\n"
     ]
    }
   ],
   "source": [
    "for i in a:\n",
    "    nesne = re.search(\"[A-Z]+[0-9]\",i)\n",
    "    if nesne:\n",
    "        print(nesne.group())"
   ]
  },
  {
   "cell_type": "markdown",
   "id": "c2817df6",
   "metadata": {},
   "source": [
    "Gördüğünüz gibi, `^` şapka sembolü olmadığında `search()` metodu karakter dizisinin tamamını tarıyor. Biz yukarıdaki koda bir `^` sembolü ekleyerek, metodumuzun sadece karakter dizisinin en başına bakmasını istedik. \n",
    "\n",
    "Burada dikkatimizi çekmesi gereken başka bir nokta da, `search()` metodundaki çıktının **kırpılmış** olması. Dikkat ettiyseniz, `search()` metodu bize öğenin tamamını vermedi. Öğelerin yalnızca `[A-Z]+[0-9]` kalıbına uyan kısımlarını verdi. Çünkü biz ona tersini söylemedik. Eğer öğelerin tamamını istiyorsak bunu açık açık belirtmemiz gerekir:"
   ]
  },
  {
   "cell_type": "code",
   "execution_count": 16,
   "id": "9ded8abf",
   "metadata": {},
   "outputs": [
    {
     "name": "stdout",
     "output_type": "stream",
     "text": [
      "BH56\n",
      "TY76Z\n",
      "Y7UZ\n",
      "AY54\n"
     ]
    }
   ],
   "source": [
    "for i in a:\n",
    "    nesne = re.search(\"[A-Z]+[0-9].*\",i)\n",
    "    if nesne:\n",
    "        print(nesne.group())"
   ]
  },
  {
   "cell_type": "markdown",
   "id": "caad8411",
   "metadata": {},
   "source": [
    "Veya metodumuzun karakter dizisinin sadece en başına bakmasını istersek:"
   ]
  },
  {
   "cell_type": "code",
   "execution_count": 17,
   "id": "783bd3d3",
   "metadata": {},
   "outputs": [
    {
     "name": "stdout",
     "output_type": "stream",
     "text": [
      "TY76Z\n"
     ]
    }
   ],
   "source": [
    "for i in a:\n",
    "    nesne = re.search(\"^[A-Z]+[0-9].*\",i)\n",
    "    if nesne:\n",
    "        print(nesne.group())"
   ]
  },
  {
   "cell_type": "markdown",
   "id": "f2e06a4f",
   "metadata": {},
   "source": [
    "Bu kodlarda düzenli ifade kalıbının sonuna `.*` sembolünü eklediğimize dikkat edin. Böylelikle metodumuzun sonu herhangi bir şekilde biten öğeleri bize vermesini sağladık.\n",
    "\n",
    "`^` metakarakterinin, karakter dizilerinin en başına demir atmak dışında başka bir görevi daha vardır: **Hariç** anlamına gelmektedir.\n",
    "\n",
    "Bu görevini sadece `[]` metakarakterinin içinde kullanıldığı zaman yerine getirir. Bunu bir örnekle görelim. Yukarıdaki listemiz üzerinde öyle bir süzgeç uygulayalım ki, **1agAY54** öğesi çıktılarımız arasında görünmesin. \n",
    "\n",
    "Bu öğeyi avlayabilmek için kullanmamız gereken düzenli ifade şöyle olacaktır: `[0-9A-Z][^a-z]+`"
   ]
  },
  {
   "cell_type": "code",
   "execution_count": 18,
   "id": "534e68b0",
   "metadata": {},
   "outputs": [
    {
     "name": "stdout",
     "output_type": "stream",
     "text": [
      "23BH56\n",
      "TY76Z\n",
      "4Y7UZ\n",
      "TYUDZ\n",
      "34534\n"
     ]
    }
   ],
   "source": [
    "for i in a:\n",
    "    nesne = re.match(\"[0-9A-Z][^a-z]+\",i)\n",
    "    if nesne:\n",
    "        print(nesne.group())"
   ]
  },
  {
   "cell_type": "markdown",
   "id": "4ce203f6",
   "metadata": {},
   "source": [
    "Burada şu ölçütlere sahip bir öğe arıyoruz:\n",
    "\n",
    "1. Aradığımız öğe bir sayı veya büyük harf ile başlamalı\n",
    "2. En baştaki sayı veya büyük harften sonra küçük harf **GELMEMELİ** (Bu ölçütü “^” işareti sağlıyor)\n",
    "3. Üstelik bu **“küçük harf gelmeme durumu”** bir veya daha fazla sayıda tekrar etmeli. Yani baştaki sayı veya büyük harften sonra kaç tane olursa olsun asla küçük harf gelmemeli (Bu ölçütü de “+” işareti sağlıyor”)\n",
    "\n",
    "Bu ölçütlere uymayan tek öğe “1agAY54” olacaktır. Dolayısıyla bu öğe çıktıda görünmez.\n",
    "\n",
    "Burada, `^` işaretinin nasıl kullanıldığına ve küçük harfleri nasıl dışarıda bıraktığına dikkat edin. Unutmayalım, bu `^` işaretinin **hariç** anlamı sadece `[]` metakarakterinin içinde kullanıldığı zaman geçerlidir."
   ]
  },
  {
   "cell_type": "markdown",
   "id": "74e7280e",
   "metadata": {},
   "source": [
    "## $ Dolar\n",
    "\n",
    "`$` metakarakteri, **Çok satırlı desenin ya da dizelerin nasıl biteceğini** belirliyor. Bu sembol arama/eşleştirme işleminin karakter dizisinin en sonuna bakmasını sağlıyor. **Sadece kendinden önceki BİR karaktere BAKMIYOR**. Hatırlarsınız `^` metakarakteri eşleştirme işleminin karakter dizisinin en başından başlamasını sağlıyordu."
   ]
  },
  {
   "cell_type": "code",
   "execution_count": 14,
   "id": "b6203d23",
   "metadata": {},
   "outputs": [],
   "source": [
    "liste = [\"at\", \"katkı\", \"fakat\", \"atkı\", \"rahat\", \"mat\", \"yat\", \"sat\", \"satılık\", \"katılım\"]"
   ]
  },
  {
   "cell_type": "markdown",
   "id": "1a135d19",
   "metadata": {},
   "source": [
    "Diyelim ki yukarıda tanımlı listeden, **at** hecesiyle biten kelimeleri ayıklamak istiyoruz:"
   ]
  },
  {
   "cell_type": "code",
   "execution_count": 15,
   "id": "996afd5d",
   "metadata": {},
   "outputs": [
    {
     "name": "stdout",
     "output_type": "stream",
     "text": [
      "at\n",
      "fakat\n",
      "rahat\n",
      "mat\n",
      "yat\n",
      "sat\n"
     ]
    }
   ],
   "source": [
    "for i in liste:\n",
    "    if re.search(\"at$\",i):\n",
    "        print(i)"
   ]
  },
  {
   "cell_type": "markdown",
   "id": "b3aa3346",
   "metadata": {},
   "source": [
    "Burada `$` metakarakteri sayesinde aradığımız karakter dizisinin nasıl bitmesi gerektiğini belirleyebildik. Eğer biz **at** ile başlayan bütün öğeleri ayıklamak isteseydik ne yapmamız gerektiğini biliyorsunuz:"
   ]
  },
  {
   "cell_type": "code",
   "execution_count": 8,
   "id": "d8bad22c",
   "metadata": {},
   "outputs": [
    {
     "name": "stdout",
     "output_type": "stream",
     "text": [
      "at\n",
      "atkı\n"
     ]
    }
   ],
   "source": [
    "for i in liste:\n",
    "    if re.search(\"^at\",i):\n",
    "        print(i)"
   ]
  },
  {
   "cell_type": "markdown",
   "id": "98f45e22",
   "metadata": {},
   "source": [
    "Gördüğünüz gibi, `^` işareti bir karakter dizisinin nasıl başlayacağını belirlerken, `$` işareti aynı karakter dizisinin nasıl biteceğini belirliyor. \n",
    "\n",
    "Dikkat edilmesi gereken bir husu ta şudur ki;\n",
    "* `^` işareti bir karakter dizisinin başına yazılırken\n",
    "* `$` işareti karakter dizisinin sonuna yazılırken"
   ]
  },
  {
   "cell_type": "markdown",
   "id": "44544f80",
   "metadata": {},
   "source": [
    "## \\ Ters Bölü\n",
    "\n",
    "Bu işaret bildiğimiz **kaçış dizisi**dir. Peki burada ne işi var? Şimdiye kadar öğrendiğimiz konulardan gördüğünüz gibi, Python’daki düzenli ifadeler açısından özel anlam taşıyan bir takım semboller/metakarakterler var. Bunlar kendileriyle eşleşmiyorlar. Yani bir karakter dizisi içinde bu sembolleri arıyorsak eğer, bunların taşıdıkları özel anlam yüzünden bu sembolleri ayıklamak hemencecik mümkün olmayacaktır. Yani mesela biz `$` sembolünü arıyor olsak, bunu Python’a nasıl anlatacağız? Çünkü bu sembolü yazdığımız zaman Python bunu farklı algılıyor. Lafı dolandırmadan hemen bir örnek verelim…\n",
    "\n",
    "Diyelim ki elimizde şöyle bir liste var:"
   ]
  },
  {
   "cell_type": "code",
   "execution_count": 9,
   "id": "33572985",
   "metadata": {},
   "outputs": [],
   "source": [
    "liste = [\"10$\", \"25€\", \"20$\", \"10TL\", \"25£\"]"
   ]
  },
  {
   "cell_type": "markdown",
   "id": "6d424c4c",
   "metadata": {},
   "source": [
    "Amacımız bu listedeki **dolarlı** değerleri ayıklamaksa ne yapacağız? Şunu deneyelim önce:"
   ]
  },
  {
   "cell_type": "code",
   "execution_count": 10,
   "id": "a0423d84",
   "metadata": {},
   "outputs": [],
   "source": [
    "for i in liste:\n",
    "    if re.match(\"[0-9]+$\",i):\n",
    "        print(i)"
   ]
  },
  {
   "cell_type": "markdown",
   "id": "7141ce07",
   "metadata": {},
   "source": [
    "Python `$` işaretinin özel anlamından dolayı, bizim sayıyla biten bir karakter dizisi aradığımızı zannedecek, dolayısıyla da herhangi bir çıktı vermeyecektir. Çünkü listemizde sayıyla biten bir karakter dizisi yok.\n",
    "\n",
    "Peki biz ne yapacağız? İşte bu noktada `\\` metakarakteri devreye girecek. Hemen bakalım:"
   ]
  },
  {
   "cell_type": "code",
   "execution_count": 11,
   "id": "206fcc8b",
   "metadata": {},
   "outputs": [
    {
     "name": "stdout",
     "output_type": "stream",
     "text": [
      "10$\n",
      "20$\n"
     ]
    }
   ],
   "source": [
    "for i in liste:\n",
    "    if re.match(\"[0-9]+\\$\",i):\n",
    "        print(i)"
   ]
  },
  {
   "cell_type": "markdown",
   "id": "7bbca187",
   "metadata": {},
   "source": [
    "Gördüğünüz gibi, “\\” sembolünü kullanarak “$” işaretinin özel anlamından kaçtık."
   ]
  },
  {
   "cell_type": "markdown",
   "id": "06d81873",
   "metadata": {},
   "source": [
    "## | Dik Çizgi, Boru (Pipe) Sembolü\n",
    "\n",
    "Bu metakarakter, birden fazla düzenli ifade kalıbını birlikte eşleştirmemizi sağlar. `|` sembolü, **VEYA** anlamına gelir diyebiliriz. Yani birkaç alternatif modelden **herhangi birini** eşleştirir. Eşleştirme için birden fazla kriter belirlermek için `|` sembölünü kullanabiliriz. Hemen örnek yapalım:"
   ]
  },
  {
   "cell_type": "code",
   "execution_count": 16,
   "id": "d5bd49d3",
   "metadata": {},
   "outputs": [
    {
     "name": "stdout",
     "output_type": "stream",
     "text": [
      "at\n",
      "fakat\n",
      "atkı\n",
      "rahat\n",
      "mat\n",
      "yat\n",
      "sat\n"
     ]
    }
   ],
   "source": [
    "liste = [\"at\", \"katkı\", \"fakat\", \"atkı\", \"rahat\", \"mat\", \"yat\", \"sat\", \"satılık\", \"katılım\"]\n",
    "\n",
    "for i in liste:\n",
    "    if re.search(\"^at|at$\",i):\n",
    "        print(i)"
   ]
  },
  {
   "cell_type": "markdown",
   "id": "f1689115",
   "metadata": {},
   "source": [
    "Gördüğünüz gibi `|` metakarakterini kullanarak **at** ile başlayan **ve** biten kelimeleri bulduk / ayıkladık. `|` sembolünü kullanmasaydık ve aşağıdaki ifadesiyi yazsaydık **atat** ile başlayan ve biten kelime aramış olurduk ve sonuç bulamazdık."
   ]
  },
  {
   "cell_type": "code",
   "execution_count": 19,
   "id": "d590b007",
   "metadata": {},
   "outputs": [],
   "source": [
    "for i in liste:\n",
    "    if re.search(\"^atat$\",i):\n",
    "        print(i)"
   ]
  },
  {
   "cell_type": "markdown",
   "id": "3a60e5c2",
   "metadata": {},
   "source": [
    "Aşağıdaki ifadesiyi yazmış olsaydık ise **at** ile başlayan ve biten kelime aramış olurduk ve sadece **at** sonucunu elde ederdik."
   ]
  },
  {
   "cell_type": "code",
   "execution_count": 20,
   "id": "135ea38a",
   "metadata": {},
   "outputs": [
    {
     "name": "stdout",
     "output_type": "stream",
     "text": [
      "at\n"
     ]
    }
   ],
   "source": [
    "for i in liste:\n",
    "    if re.search(\"^at$\",i):\n",
    "        print(i)"
   ]
  },
  {
   "cell_type": "markdown",
   "id": "da556c36",
   "metadata": {},
   "source": [
    "## ( ) Parantez\n",
    "\n",
    "Bu metakarakter yardımıyla **düzenli ifade kalıplarını gruplayacağız**. Ayrıca gruplandırılmış ifadelerine denk gelen kalıpları saklar ve en fazla 9 kalıp saklayabilir. Bu metakarakter bizim bir karakter dizisinin istediğimiz kısımlarını ayıklamamızda çok büyük kolaylıklar sağlayacak."
   ]
  },
  {
   "cell_type": "code",
   "execution_count": 24,
   "id": "4c4a2d97",
   "metadata": {},
   "outputs": [
    {
     "name": "stdout",
     "output_type": "stream",
     "text": [
      "ali\n",
      "abi\n"
     ]
    }
   ],
   "source": [
    "x = [\"ali\", \"veli\", \"deli\", \"zeki\", \"abi\"]\n",
    "\n",
    "for i in x:\n",
    "    if re.search(\"a(b|l)i\", i):\n",
    "        print(i)"
   ]
  },
  {
   "cell_type": "code",
   "execution_count": 2,
   "id": "91c0eb93",
   "metadata": {},
   "outputs": [
    {
     "name": "stdout",
     "output_type": "stream",
     "text": [
      "650-abc-7425\n",
      "650-xyz-1653\n"
     ]
    }
   ],
   "source": [
    "veri = ['650-654-7544', 'Mustafa Halil', '650524495', '65080976', '08069114', '656037422', '6504476824', '6508000010',\n",
    " '6501552207', '(650)605 09 96', '650-537-82-34', '6503320122', '650_919_64', '650-abc-7425', '6509318724', '6502184706',\n",
    " '650-xyz-1653', '6501921596']\n",
    "\n",
    "for i in veri:\n",
    "    if re.search(r\"(\\d{3})-([a-z]{3})-(\\d{4})\", i):\n",
    "        print(i)"
   ]
  },
  {
   "cell_type": "markdown",
   "id": "4dc6f6a0",
   "metadata": {},
   "source": [
    "`r\"(\\d{3})-([a-z]{3})-(\\d{4})\"` deseni ile 3 adet grup oluşturduk. Bu desenleri açıklayalım;\n",
    "\n",
    "* `(\\d{3})` = **3 adet rakam**, ardından  \n",
    "* `-` = **Tire işareti** , ardından\n",
    "* `([a-z]{3})` = **a'dan z'ye kadar 3 adet küçük harf** , ardından\n",
    "* `-` = **Tire işareti** ve son olarak\n",
    "* `(\\d{4})` = **4 adet rakam**\n",
    "\n",
    "dan oluşan bir değer arıyorum.\n",
    "\n",
    "Şimdi grupları açıklamaya çalışayım."
   ]
  },
  {
   "cell_type": "code",
   "execution_count": 25,
   "id": "88765116",
   "metadata": {},
   "outputs": [
    {
     "name": "stdout",
     "output_type": "stream",
     "text": [
      "650-abc-7425\n",
      "650-xyz-1653\n"
     ]
    }
   ],
   "source": [
    "veri = \"08069114 6501552207 650-abc-7425 (650)605 09 96 650-537-82-34 650_919_64 6509318724 650-xyz-1653\"\n",
    "\n",
    "desen = r\"(\\d{3})-([a-z]{3})-(\\d{4})\"\n",
    "eslesen = re.finditer(desen, veri)\n",
    "\n",
    "for es in eslesen:\n",
    "    print(es.group())"
   ]
  },
  {
   "cell_type": "markdown",
   "id": "e68a29e6",
   "metadata": {},
   "source": [
    "Görüldüğü üzere aranan desene uygun 2 adet sonuç elde ettik; **650-abc-7425** ve **650-xyz-1653**. \n",
    "\n",
    "Parantez içine aldığımız desenlerin her biri **bir grubu ifade ediyor**.  Bu değerleri ekrana yazdırmak için `group()` metodunu kullandık. `group()` metodu ile `group(0)` metodu aynıdır. Desenimizde (parantez içinde) 3 grup olduğu için `group(1), group(2)` ve `group(3)` yöntemiyle, eşleşen 3 gruba ayrı ayrı erişebiliriz. Aşağıdaki kodları inceleyin;"
   ]
  },
  {
   "cell_type": "code",
   "execution_count": 23,
   "id": "014b2ebb",
   "metadata": {
    "scrolled": true
   },
   "outputs": [
    {
     "name": "stdout",
     "output_type": "stream",
     "text": [
      "1. Grup Değerleri:\n",
      "650\n",
      "650\n"
     ]
    }
   ],
   "source": [
    "desen = r\"(\\d{3})-([a-z]{3})-(\\d{4})\"\n",
    "eslesen = re.finditer(desen, veri)\n",
    "\n",
    "print(\"1. Grup Değerleri:\")\n",
    "for es in eslesen:\n",
    "    print(es.group(1))"
   ]
  },
  {
   "cell_type": "code",
   "execution_count": 22,
   "id": "ceaf5719",
   "metadata": {},
   "outputs": [
    {
     "name": "stdout",
     "output_type": "stream",
     "text": [
      "2. Grup Değerleri:\n",
      "abc\n",
      "xyz\n"
     ]
    }
   ],
   "source": [
    "desen = r\"(\\d{3})-([a-z]{3})-(\\d{4})\"\n",
    "eslesen = re.finditer(desen, veri)\n",
    "\n",
    "print(\"2. Grup Değerleri:\")\n",
    "for es in eslesen:\n",
    "    print(es.group(2))"
   ]
  },
  {
   "cell_type": "code",
   "execution_count": 24,
   "id": "d9bcbbb2",
   "metadata": {},
   "outputs": [
    {
     "name": "stdout",
     "output_type": "stream",
     "text": [
      "3. Grup Değerleri:\n",
      "7425\n",
      "1653\n"
     ]
    }
   ],
   "source": [
    "desen = r\"(\\d{3})-([a-z]{3})-(\\d{4})\"\n",
    "eslesen = re.finditer(desen, veri)\n",
    "\n",
    "print(\"3. Grup Değerleri:\")\n",
    "for es in eslesen:\n",
    "    print(es.group(3))"
   ]
  },
  {
   "cell_type": "markdown",
   "id": "21937c9b",
   "metadata": {},
   "source": [
    "# Eşleşme Nesnelerinin Metotları\n",
    "\n",
    "## group() metodu\n",
    "Bu bölümde doğrudan düzenli ifadelerin değil, ama düzenli ifadeler kullanılarak üretilen eşleşme nesnelerinin bir metodu olan `group()` metodundan bahsedeceğiz. Esasında biz bu metodu önceki bölümlerde de kullanmıştık. Ama burada bu metoda biraz daha ayrıntılı olarak bakacağız.\n",
    "\n",
    "Daha önceki bölümlerden hatırlayacağınız gibi, bu metot düzenli ifadeleri kullanarak eşleştirdiğimiz karakter dizilerini görme imkanı sağlıyordu. Bu bölümde bu metodu `( )` metakarakteri yardımıyla daha verimli bir şekilde kullanacağız. İsterseniz ilk olarak şöyle basit bir örnek verelim:"
   ]
  },
  {
   "cell_type": "code",
   "execution_count": 15,
   "id": "84d6122b",
   "metadata": {},
   "outputs": [
    {
     "name": "stdout",
     "output_type": "stream",
     "text": [
      "python bir programlama dilidir\n"
     ]
    }
   ],
   "source": [
    "kardiz = \"python bir programlama dilidir\"\n",
    "nesne = re.search(\"(python) (bir) (programlama) (dilidir)\", kardiz)\n",
    "\n",
    "print(nesne.group())"
   ]
  },
  {
   "cell_type": "markdown",
   "id": "62da97c3",
   "metadata": {},
   "source": [
    "Burada düzenli ifade kalıbımızı nasıl grupladığımıza dikkat edin. `print(nesne.group())` komutunu verdiğimizde eşleşen karakter dizileri ekrana döküldü. Şimdi bu grupladığımız bölümlere tek tek erişelim:"
   ]
  },
  {
   "cell_type": "code",
   "execution_count": 16,
   "id": "611f8703",
   "metadata": {},
   "outputs": [
    {
     "data": {
      "text/plain": [
       "'python bir programlama dilidir'"
      ]
     },
     "execution_count": 16,
     "metadata": {},
     "output_type": "execute_result"
    }
   ],
   "source": [
    "nesne.group(0)"
   ]
  },
  {
   "cell_type": "markdown",
   "id": "4bd5884b",
   "metadata": {},
   "source": [
    "Gördüğünüz gibi, “0” indeksi eşleşen karakter dizisinin tamamını veriyor. Gerisinin nasıl olacağını tahmin edebilirsiniz:"
   ]
  },
  {
   "cell_type": "code",
   "execution_count": 17,
   "id": "f399efc9",
   "metadata": {
    "scrolled": true
   },
   "outputs": [
    {
     "name": "stdout",
     "output_type": "stream",
     "text": [
      "python\n",
      "bir\n",
      "programlama\n",
      "dilidir\n"
     ]
    }
   ],
   "source": [
    "print(nesne.group(1))\n",
    "print(nesne.group(2))\n",
    "print(nesne.group(3))\n",
    "print(nesne.group(4))"
   ]
  },
  {
   "cell_type": "markdown",
   "id": "d39880ba",
   "metadata": {},
   "source": [
    "`group()` metoduna ait benzer bir örnek yukarıdaki **( ) Parantez** başlığı altında detaylı anlatıldı."
   ]
  },
  {
   "cell_type": "markdown",
   "id": "d3a30734",
   "metadata": {},
   "source": [
    "## groups() metodu\n",
    "\n",
    "Bu metot, bize kullanabileceğimiz bütün grupları bir *demet* halinde sunar:"
   ]
  },
  {
   "cell_type": "code",
   "execution_count": 8,
   "id": "d6cd6e6d",
   "metadata": {},
   "outputs": [
    {
     "data": {
      "text/plain": [
       "('python', 'bir', 'programlama', 'dilidir')"
      ]
     },
     "execution_count": 8,
     "metadata": {},
     "output_type": "execute_result"
    }
   ],
   "source": [
    "nesne.groups()"
   ]
  },
  {
   "cell_type": "markdown",
   "id": "7ee02722",
   "metadata": {},
   "source": [
    "# Özel Diziler\n",
    "\n",
    "## \\s   Boşluk Karakterinin Yerini Tutan Özel Dizi.\n",
    "\n",
    "Bu sembol (`\\s`), bir karakter dizisi içinde geçen **boşlukları (boşluk, tab ve enter karakterlerini) yakalamak** için kullanılır."
   ]
  },
  {
   "cell_type": "code",
   "execution_count": 3,
   "id": "430d9d4a",
   "metadata": {},
   "outputs": [
    {
     "name": "stdout",
     "output_type": "stream",
     "text": [
      "5 Ocak\n",
      "4 Ekim\n"
     ]
    }
   ],
   "source": [
    "a = [\"5 Ocak\", \"27Mart\", \"4 Ekim\", \"Nisan 3\"]\n",
    "\n",
    "for i in a:\n",
    "    nesne = re.search(\"[0-9]\\s[A-Za-z]+\",i)\n",
    "    if nesne:\n",
    "        print(nesne.group())"
   ]
  },
  {
   "cell_type": "markdown",
   "id": "4e136794",
   "metadata": {},
   "source": [
    "Yukarıdaki örnekte, bir sayı ile başlayan, ardından bir adet boşluk karakteri içeren, sonra da bir büyük veya küçük harfle devam eden karakter dizilerini ayıkladık. Burada boşluk karakterini `\\s` simgesi ile gösterdiğimize dikkat edin."
   ]
  },
  {
   "cell_type": "markdown",
   "id": "79ce9fd8",
   "metadata": {},
   "source": [
    "## \\S   Boşluk Karakterinin Dışındaki Karakterlerin Tutan Özel Dizi.\n",
    "\n",
    "`\\S` özel dizisi, **boşluk olmayan karakterleri** avlar."
   ]
  },
  {
   "cell_type": "code",
   "execution_count": 30,
   "id": "b2d2a167",
   "metadata": {},
   "outputs": [
    {
     "name": "stdout",
     "output_type": "stream",
     "text": [
      "27Mart\n"
     ]
    }
   ],
   "source": [
    "for i in a:\n",
    "    nesne = re.search(\"\\d+\\S\\w+\",i)\n",
    "    if nesne:\n",
    "        print(nesne.group())"
   ]
  },
  {
   "cell_type": "markdown",
   "id": "4d1297e9",
   "metadata": {},
   "source": [
    "## \\d   Sayıların Yerini Tutan Özel Dizi.\n",
    "Bu sembol, bir karakter dizisi içinde geçen **rakamları (ondalık sayıları) eşleştirmek için** kullanılır. Yani `[0-9]` ifadesi ile eşdeğerdir.\n",
    "\n",
    "Buraya kadar olan örneklerde bu işlevi yerine getirmek için `[0-9]` ifadesinden yararlanıyorduk. Şimdi artık aynı işlevi daha kısa yoldan, `\\d` dizisi ile yerine getirebiliriz. İsterseniz yine yukarıdaki örnekten gidelim:"
   ]
  },
  {
   "cell_type": "code",
   "execution_count": 86,
   "id": "e3164f44",
   "metadata": {},
   "outputs": [
    {
     "name": "stdout",
     "output_type": "stream",
     "text": [
      "5 Ocak\n",
      "4 Ekim\n"
     ]
    }
   ],
   "source": [
    "a = [\"5 Ocak\", \"27Mart\", \"4 Ekim\", \"Nisan 3\"]\n",
    "\n",
    "for i in a:\n",
    "    nesne = re.search(\"\\d\\s[A-Za-z]+\",i)\n",
    "    if nesne:\n",
    "        print(nesne.group())"
   ]
  },
  {
   "cell_type": "markdown",
   "id": "851d15ea",
   "metadata": {},
   "source": [
    "Burada, `[0-9]` yerine `\\d` yerleştirerek daha kısa yoldan sonuca vardık."
   ]
  },
  {
   "cell_type": "markdown",
   "id": "5d65769d",
   "metadata": {},
   "source": [
    "## \\D   Sayı Olmayan Karakterlerin Yerini Tutan Özel Dizi.\n",
    "\n",
    "`\\D` özel dizisi **rakam (ondalık sayı) olmayan karakterleri** avlar. Yani `[^0-9]` ile eşdeğerdir."
   ]
  },
  {
   "cell_type": "code",
   "execution_count": 4,
   "id": "99b4e578",
   "metadata": {
    "scrolled": true
   },
   "outputs": [
    {
     "name": "stdout",
     "output_type": "stream",
     "text": [
      " Ocak\n",
      "Mart\n",
      " Ekim\n",
      "Nisan \n"
     ]
    }
   ],
   "source": [
    "for i in a:\n",
    "    nesne = re.search(\"\\D+\",i)\n",
    "    if nesne:\n",
    "        print(nesne.group())"
   ]
  },
  {
   "cell_type": "code",
   "execution_count": 50,
   "id": "bd3ae59d",
   "metadata": {},
   "outputs": [
    {
     "name": "stdout",
     "output_type": "stream",
     "text": [
      " Ocak\n",
      " Ekim\n"
     ]
    }
   ],
   "source": [
    "for i in a:\n",
    "    nesne = re.search(\"\\s\\D+\",i)\n",
    "    if nesne:\n",
    "        print(nesne.group())"
   ]
  },
  {
   "cell_type": "markdown",
   "id": "5f10b188",
   "metadata": {},
   "source": [
    "## \\w   Alfanümerik Karakterlerin Yerini Tutan Özel Dizi.\n",
    "\n",
    "Bu sembol, bir karakter dizisi içinde geçen **alfanümerik karakterleri (harf, rakam) ve buna ek olarak alt çizgi karakterini** `_` bulmak için kullanılır. \n",
    "\n",
    "Bu özel dizi şu ifadeyle aynı anlama gelir: `[a-zA-Z0-9_]`. Bu ifadeyi yazmaktansa `\\w` yazmanın ne kadar kolay olduğu ortada."
   ]
  },
  {
   "cell_type": "code",
   "execution_count": 4,
   "id": "62faf211",
   "metadata": {},
   "outputs": [
    {
     "name": "stdout",
     "output_type": "stream",
     "text": [
      "abc123_\n"
     ]
    }
   ],
   "source": [
    "a = \"abc123_$%+\"\n",
    "print(re.search(\"\\w*\", a).group())"
   ]
  },
  {
   "cell_type": "markdown",
   "id": "9a6221a9",
   "metadata": {},
   "source": [
    "## \\W   Alfanümerik Karakterlerin Dışındaki Karakterlerin Yerini Tutan Özel Dizi.\n",
    "\n",
    "Bu sembol **Harf, rakam ve alt çizgi karakteri dışında** herhangi bir şeyle eşleşir. \n",
    "\n",
    "Bu özel dizi şu ifadeyle aynı anlama gelir: `[^a-zA-Z0-9_]` ile eşdeğerdir"
   ]
  },
  {
   "cell_type": "code",
   "execution_count": 83,
   "id": "7d53b9ad",
   "metadata": {},
   "outputs": [
    {
     "name": "stdout",
     "output_type": "stream",
     "text": [
      "\n",
      "\n",
      "$%+\n"
     ]
    }
   ],
   "source": [
    "b = [\"abc\", \"123\", \"$%+\"]\n",
    "\n",
    "for i in b:\n",
    "    print(re.search(\"\\W*\", i).group())"
   ]
  },
  {
   "cell_type": "markdown",
   "id": "bae089dd",
   "metadata": {},
   "source": [
    "Şimdi bu özel diziler için genel bir örnek verip konuyu kapatalım."
   ]
  },
  {
   "cell_type": "code",
   "execution_count": 5,
   "id": "ae4a3772",
   "metadata": {},
   "outputs": [],
   "source": [
    "veriler = [\"esra : istinye 05331233445\", \"esma : levent 05322134344\", \"sevgi : dudullu 05354445434\", \n",
    "           \"kemal : sanayi 05425455555\", \"osman : tahtakale 02124334444\",\"metin : taksim 02124344332\"]"
   ]
  },
  {
   "cell_type": "markdown",
   "id": "371b435d",
   "metadata": {},
   "source": [
    "Amacımız bu listede yer alan isim ve telefon numaralarını `isim > telefon numarası` şeklinde almak:"
   ]
  },
  {
   "cell_type": "code",
   "execution_count": 8,
   "id": "3c87ff3a",
   "metadata": {},
   "outputs": [
    {
     "name": "stdout",
     "output_type": "stream",
     "text": [
      "esra > 05331233445\n",
      "esma > 05322134344\n",
      "sevgi > 05354445434\n",
      "kemal > 05425455555\n",
      "osman > 02124334444\n",
      "metin > 02124344332\n"
     ]
    }
   ],
   "source": [
    "for i in veriler:\n",
    "    nesne = re.search(\"(\\w+)\\s+:\\s(\\w+)\\s+(\\d+)\",i)\n",
    "    if nesne:\n",
    "        print(\"{} > {}\".format(nesne.group(1), nesne.group(3)))"
   ]
  },
  {
   "cell_type": "markdown",
   "id": "60b783a3",
   "metadata": {},
   "source": [
    "Burada formülümüz şu şekilde: `Bir veya daha fazla karakter` + `bir veya daha fazla boşluk` + `’:’ işareti` + `“bir adet boşluk` + `bir veya daha fazla sayı`"
   ]
  },
  {
   "cell_type": "markdown",
   "id": "72f7bdbd",
   "metadata": {},
   "source": [
    "## \\b Kelime Sınırını Belirten Özel Dizi\n",
    "\n",
    "`\\b` sembolü ile Kelimenin nasıl **başlaması**, nasıl **bitmesi** ya da tam olarak **sınırlarının ne olması** gerektiğini belirtebiliriz."
   ]
  },
  {
   "cell_type": "code",
   "execution_count": 42,
   "id": "87738969",
   "metadata": {},
   "outputs": [
    {
     "name": "stdout",
     "output_type": "stream",
     "text": [
      "['Doğum', 'Ağabeyim', 'Doğum', 'Bilgisayarın']\n"
     ]
    }
   ],
   "source": [
    "veri = \"Doğum günüm 01.02.1980. Ağabeyim Doğum günü ise 03.04.1975'te doğdu. Bilgisayarın ip adresi 04.05.18741'dir.\"\n",
    "desen = r\"\\b[A-Z]\\w+\"\n",
    "b_harf = re.findall(desen, veri)\n",
    "\n",
    "print(b_harf)"
   ]
  },
  {
   "cell_type": "markdown",
   "id": "df397413",
   "metadata": {},
   "source": [
    "Büyük harf ile başlayan kelimeleri görmek istediğimizde yukarıdaki deseni kullanabiliriz.\n",
    "\n",
    "Cümle sonlarını bulmak için ise aşağıdaki desen işimize yarayabilir."
   ]
  },
  {
   "cell_type": "code",
   "execution_count": 43,
   "id": "75dee5ce",
   "metadata": {},
   "outputs": [
    {
     "name": "stdout",
     "output_type": "stream",
     "text": [
      "['1980. ', 'doğdu. ']\n"
     ]
    }
   ],
   "source": [
    "desen = r\"\\w+\\.\\s\\b\"\n",
    "cumle_sonu = re.findall(desen, veri)\n",
    "\n",
    "print(cumle_sonu)"
   ]
  },
  {
   "cell_type": "code",
   "execution_count": 2,
   "id": "135aefb9",
   "metadata": {},
   "outputs": [
    {
     "name": "stdout",
     "output_type": "stream",
     "text": [
      "['01.02.1980', '03.04.1975', '04.05.1874']\n"
     ]
    }
   ],
   "source": [
    "veri = \"Doğum günüm 01.02.1980. ağabeyim ise 03.04.1975'te doğdu. bilgisayarımın ip adresi 04.05.18741'dir.\"\n",
    "\n",
    "desen = r\"\\d{2}\\.\\d{2}\\.\\d{4}\"\n",
    "d_gunleri = re.findall(desen, veri)\n",
    "\n",
    "print(d_gunleri)"
   ]
  },
  {
   "cell_type": "markdown",
   "id": "cfe1396d",
   "metadata": {},
   "source": [
    "Görüldüğü gibi desene uygun sonuçlar aldık ancak çıktıdaki son değer, doğum günü olmamasına rağmen desenle eşleşti. Bu sorunu çözmek için, deseni başlangıç ve bitiş sınırlarını belirterek tanımlamalıyız. Yani desenin başına ve sonuna `\\b` sembolünü eklemeliyiz."
   ]
  },
  {
   "cell_type": "code",
   "execution_count": 3,
   "id": "6939236b",
   "metadata": {},
   "outputs": [
    {
     "name": "stdout",
     "output_type": "stream",
     "text": [
      "['01.02.1980', '03.04.1975']\n"
     ]
    }
   ],
   "source": [
    "desen = r\"\\b\\d{2}\\.\\d{2}\\.\\d{4}\\b\"\n",
    "d_gunleri = re.findall(desen, veri)\n",
    "\n",
    "print(d_gunleri)"
   ]
  },
  {
   "cell_type": "markdown",
   "id": "3a81aeba",
   "metadata": {},
   "source": [
    "Desenin başına ve sonuna `\\b` sembolünü ekleyerek, kelimenin tüm sınırlarını tanımlamış olduk. Bu desen ile; Kelime başında 2 adet rakam, ardından 1 nokta (.) sonrasında tekrar 2 adet rakam ve ardından nokta (.) gelsin son olarak ta 4 adet rakam olsun demiş olduk. BU desen sayesinde **04.05.18741** değerini safdışı bırakış olduk.\n",
    "\n",
    "Eğer verimizde tarih yazım biçimi farklı (örneğin nokta (.) ve taksim, bölü (/) işareti) olan birden fazla değerler olsaydı nasıl bir yol izlemeliydik? Buna da bir örnek verelim."
   ]
  },
  {
   "cell_type": "code",
   "execution_count": 5,
   "id": "63979877",
   "metadata": {},
   "outputs": [
    {
     "name": "stdout",
     "output_type": "stream",
     "text": [
      "['01.02.1980', '03/04/1975']\n"
     ]
    }
   ],
   "source": [
    "veri = \"Doğum günüm 01.02.1980. ağabeyim ise 03/04/1975'te doğdu. bilgisayarımın ip adresi 04.05.18741'dir.\"\n",
    "\n",
    "desen = r\"\\b\\d{2}[./]\\d{2}[./]\\d{4}\\b\"\n",
    "d_gunleri = re.findall(desen, veri)\n",
    "\n",
    "print(d_gunleri)"
   ]
  },
  {
   "cell_type": "markdown",
   "id": "6726ec10",
   "metadata": {},
   "source": [
    "Gördüğünüz gibi nokta (.) ve taksim, bölü (/) işaretini, köşeli parantez içerisine yazarak alternatif seçenekler oluşturmuş olduk.\n",
    "\n",
    "**NOT:** **Nokta işaretini** desen içinde doğrudan yazarken kaçış dizisi olan ters taksim işaretini yazmamız gerekiyor. Oysa köşeli parantez içerisinde yazdığımızda kaçış dizini olan ters bölü işaretini kullanmıyoruz. Bu, Köşeli parantezin bir özelliğidir. Diğer sembolleri de nokta gibi yazabiliyoruz."
   ]
  },
  {
   "cell_type": "markdown",
   "id": "a439fd0a",
   "metadata": {},
   "source": [
    "## \\B Özel Dizisi\n",
    "\n",
    "`\\b` özel dizisinin tam tersidir.\n",
    "\n",
    "Örneğin `py\\b` deseni, **py** ile biten dizilerle eşleşirken `py\\B` deseni,\t**py** ifadesini içeren ancak **py** ile **BİTMEYENLERLE** eşleşir. "
   ]
  },
  {
   "cell_type": "code",
   "execution_count": 74,
   "id": "90e553ab",
   "metadata": {
    "scrolled": true
   },
   "outputs": [
    {
     "name": "stdout",
     "output_type": "stream",
     "text": [
      "['Seher', 'şeker']\n"
     ]
    }
   ],
   "source": [
    "metin = \"Recep Ramazan Seher (Halil) Sertaç Halili zaman erkek Halil. şeker 2.345 python, py3, py2 py py. py!\"\n",
    "desen = r\"\\w+er\\b\" # başında alfanümerik karakterler olan sonu \"er\" ile biten kelimeleri bul.\n",
    "\n",
    "print(re.findall(desen, metin))"
   ]
  },
  {
   "cell_type": "markdown",
   "id": "085b22dd",
   "metadata": {},
   "source": [
    "`\"\\w+er\\b\"` deseni ile, başında alfanümerik karakterler olan sonu **er** ile biten kelimeleri bulmaya çalıştık."
   ]
  },
  {
   "cell_type": "code",
   "execution_count": 78,
   "id": "255d8de7",
   "metadata": {},
   "outputs": [
    {
     "name": "stdout",
     "output_type": "stream",
     "text": [
      "Sertaç\n",
      "erkek\n"
     ]
    }
   ],
   "source": [
    "liste = ['Recep', 'Ramazan', 'Seher', '(Halil)', 'manzara', 'Sertaç', 'Halili', 'zaman', 'erkek', 'Halil.', \n",
    "         'şeker', '2.345', 'python,', 'py3,', 'py2','py', 'py.', 'py!']\n",
    "\n",
    "desen = r\"er\\B\" \n",
    "\n",
    "for oge in liste:\n",
    "    if re.search(desen, oge):\n",
    "        print(oge)"
   ]
  },
  {
   "cell_type": "markdown",
   "id": "72c41676",
   "metadata": {},
   "source": [
    "`\"er\\B\"` deseni ile, içinde **er** ifadesi olan ancak sonu **er** ile **bitmeyen** kelimeleri bulmaya çalıştık."
   ]
  },
  {
   "cell_type": "code",
   "execution_count": 79,
   "id": "29ce8c75",
   "metadata": {},
   "outputs": [
    {
     "name": "stdout",
     "output_type": "stream",
     "text": [
      "Sertaç\n"
     ]
    }
   ],
   "source": [
    "desen = r\"\\Ber\\B\" \n",
    "\n",
    "for oge in liste:\n",
    "    if re.search(desen, oge):\n",
    "        print(oge)"
   ]
  },
  {
   "cell_type": "markdown",
   "id": "8f9030f7",
   "metadata": {},
   "source": [
    "`\"\\Ber\\B\"` deseni ile, içinde **er** ifadesi olan ancak başında ve sonunda **er** ifadesi **bulunmayan** kelimeleri bulmaya çalıştık."
   ]
  },
  {
   "cell_type": "markdown",
   "id": "1fdecfea",
   "metadata": {},
   "source": [
    "# Düzenli İfadelerin Derlenmesi\n",
    "\n",
    "## compile() metodu\n",
    "\n",
    "En başta da söylediğimiz gibi, düzenli ifadeler, karakter dizilerine göre biraz daha yavaş çalışırlar. Ancak düzenli ifadelerin işleyişini hızlandırmanın da bazı yolları vardır. Bu yollardan biri de `compile()` metodunu kullanmaktır.\n",
    "\n",
    "**compile** kelimesi İngilizcede **derlemek** anlamına gelir. İşte biz de bu `compile()` metodu yardımıyla düzenli ifade kalıplarımızı kullanmadan önce derleyerek daha hızlı çalışmalarını sağlayacağız. \n",
    "\n",
    "Küçük boyutlu projelerde `compile()` metodu pek hissedilir bir fark yaratmasa da özellikle büyük çaplı programlarda bu metodu kullanmak oldukça faydalı olacaktır.\n",
    "\n",
    "Basit bir örnekle başlayalım:"
   ]
  },
  {
   "cell_type": "code",
   "execution_count": 10,
   "id": "1cb1b047",
   "metadata": {},
   "outputs": [
    {
     "name": "stdout",
     "output_type": "stream",
     "text": [
      "Python2.7\n",
      "Python3.2\n",
      "Python3.3\n",
      "Python3.4\n"
     ]
    }
   ],
   "source": [
    "liste = [\"Python2.7\", \"Python3.2\", \"Python3.3\", \"Python3.4\", \"Java\"]\n",
    "\n",
    "derli = re.compile(\"[A-Za-z]+[0-9]\\.[0-9]\")\n",
    "\n",
    "for i in liste:\n",
    "    nesne = derli.search(i)\n",
    "    if nesne:\n",
    "        print(nesne.group())"
   ]
  },
  {
   "cell_type": "markdown",
   "id": "873f7bbd",
   "metadata": {},
   "source": [
    "Burada öncelikle düzenli ifade kalıbımızı derledik. Derleme işlemini nasıl yaptığımıza dikkat edin. \n",
    "\n",
    "Derlenecek düzenli ifade kalıbını `compile()` metodunda parantez içinde belirtiyoruz. \n",
    "\n",
    "Daha sonra `search()` metodunu kullanırken ise, `re.search()` demek yerine, `derli.search()` şeklinde bir ifade kullanıyoruz. Ayrıca dikkat ederseniz `derli.search()` kullanımında parantez içinde sadece eşleşecek karakter dizisini `(i)` kullandık. \n",
    "\n",
    "Eğer derleme işlemi yapmamış olsaydık, hem bu karakter dizisini, hem de düzenli ifade kalıbını yan yana kullanmamız gerekecektir `.search(\"[A-Za-z]+[0-9].[0-9], i)\"`. Ama düzenli ifade kalıbımızı yukarıda derleme işlemi esnasında belirttiğimiz için, bu kalıbı ikinci kez yazmamıza gerek kalmadı. \n",
    "\n",
    "Ayrıca burada kullandığımız düzenli ifade kalıbına da dikkat edin. Nasıl bir şablon oturttuğumuzu anlamaya çalışın. Gördüğünüz gibi, liste öğelerinde bulunan `.` işaretini eşleştirmek için düzenli ifade kalıbı içinde `\\.` ifadesini kullandık. Çünkü bildiğiniz gibi, tek başına `.` işaretinin Python açısından özel bir anlamı var. Dolayısıyla bu özel anlamdan kaçmak için `\\` işaretini de kullanmamız gerekiyor."
   ]
  },
  {
   "cell_type": "markdown",
   "id": "5ba58cb2",
   "metadata": {},
   "source": [
    "## compile() ile Derleme Seçenekleri\n",
    "\n",
    "Bir önceki bölümde `compile()` metodunun ne olduğunu, ne işe yaradığını ve nasıl kullanıldığını görmüştük. Bu bölümde ise **compile (derleme)** işlemi sırasında kullanılabilecek seçenekleri anlatacağız.\n",
    "\n",
    "\n",
    "## re.IGNORECASE veya re.I\n",
    "\n",
    "Bildiğiniz gibi, Python’da büyük-küçük harfler önemlidir. Yani eğer **python** kelimesini arıyorsanız, alacağınız çıktılar arasında **Python** olmayacaktır. Çünkü **python** ve **Python** birbirlerinden farklı iki karakter dizisidir. İşte `re.IGNORECASE` veya kısaca `re.I` adlı derleme seçenekleri bize **büyük-küçük harfe dikkat etmeden arama yapma** imkanı sağlar. Hemen bir örnek verelim:"
   ]
  },
  {
   "cell_type": "code",
   "execution_count": 13,
   "id": "864143e1",
   "metadata": {},
   "outputs": [
    {
     "name": "stdout",
     "output_type": "stream",
     "text": [
      "['Programlama', 'Programlama', 'programlama', 'programlama']\n"
     ]
    }
   ],
   "source": [
    "metin = \"\"\"Programlama dili, programcının bir bilgisayara ne yapmasını\n",
    "istediğini anlatmasının standartlaştırılmış bir yoludur. Programlama\n",
    "dilleri, programcının bilgisayara hangi veri üzerinde işlem yapacağını,\n",
    "verinin nasıl depolanıp iletileceğini, hangi koşullarda hangi işlemlerin\n",
    "yapılacağını tam olarak anlatmasını sağlar. Şu ana kadar 2500’den fazla\n",
    "programlama dili yapılmıştır. Bunlardan bazıları: Pascal, Basic, C, C#,\n",
    "C++, Java, Cobol, Perl, Python, Ada, Fortran, Delphi programlama\n",
    "dilleridir.\"\"\"\n",
    "\n",
    "derli = re.compile(\"programlama\", re.IGNORECASE)\n",
    "print(derli.findall(metin))"
   ]
  },
  {
   "cell_type": "markdown",
   "id": "1404a389",
   "metadata": {},
   "source": [
    "Gördüğünüz gibi, metinde geçen hem **programlama** kelimesini hem de **Programlama** kelimesini ayıklayabildik. Bunu yapmamızı sağlayan şey de `re.IGNORECASE` adlı derleme seçeneği oldu. \n",
    "\n",
    "Eğer bu seçeneği kullanmasaydık, çıktıda yalnızca **programlama** kelimesini görürdük. Çünkü aradığımız şey aslında **programlama** kelimesi idi. Biz istersek `re.IGNORECASE` yerine kısaca `re.I` ifadesini de kullanabiliriz. Aynı anlama gelecektir."
   ]
  },
  {
   "cell_type": "markdown",
   "id": "3fe44810",
   "metadata": {},
   "source": [
    "## re.DOTALL veya re.S\n",
    "\n",
    "Bildiğiniz gibi, metakarakterler arasında yer alan `.` sembolü herhangi bir karakterin yerini tutuyordu. Bu metakarakter bütün karakterlerin yerini tutmak üzere kullanılabilir. Hatırlarsanız, `.` metakarakterini anlatırken, bu metakarakterin, **yeni satır karakterinin yerini tutmayacağını** söylemiştik. Bunu bir örnek yardımıyla görelim. Diyelim ki elimizde şöyle bir karakter dizisi var:"
   ]
  },
  {
   "cell_type": "code",
   "execution_count": 88,
   "id": "9298ab45",
   "metadata": {},
   "outputs": [
    {
     "name": "stdout",
     "output_type": "stream",
     "text": [
      "Ben Python,\n",
      "Monty Python\n"
     ]
    }
   ],
   "source": [
    "a = \"Ben Python,\\nMonty Python\"\n",
    "print(a)"
   ]
  },
  {
   "cell_type": "markdown",
   "id": "ac65f82d",
   "metadata": {},
   "source": [
    "Bu karakter dizisi içinde **Python** kelimesini temel alarak bir arama yapmak istiyorsak eğer, kullanacağımız şu kod istediğimiz şeyi yeterince yerine getiremeyecektir:"
   ]
  },
  {
   "cell_type": "code",
   "execution_count": 89,
   "id": "f3158726",
   "metadata": {},
   "outputs": [
    {
     "name": "stdout",
     "output_type": "stream",
     "text": [
      "Python,\n"
     ]
    }
   ],
   "source": [
    "print(re.search(\"Python.*\", a).group())"
   ]
  },
  {
   "cell_type": "markdown",
   "id": "1e308789",
   "metadata": {},
   "source": [
    "Bunun sebebi, `.` metakarakterinin `\\n` (yeni satır) kaçış dizisini dikkate almamasıdır. Bu yüzden **bu kaçış dizisinin ötesine geçip orada arama yapmıyor**. Ama şimdi biz ona bu yeteneği de kazandıracağız:"
   ]
  },
  {
   "cell_type": "code",
   "execution_count": 90,
   "id": "716914a4",
   "metadata": {
    "scrolled": true
   },
   "outputs": [
    {
     "name": "stdout",
     "output_type": "stream",
     "text": [
      "Python,\n",
      "Monty Python\n"
     ]
    }
   ],
   "source": [
    "derle = re.compile(\"Python.*\", re.DOTALL)\n",
    "nesne = derle.search(a)\n",
    "\n",
    "if nesne:\n",
    "    print(nesne.group())"
   ]
  },
  {
   "cell_type": "markdown",
   "id": "fd8773e0",
   "metadata": {},
   "source": [
    "`re.DOTALL` seçeneğini sadece `re.S` şeklinde de kısaltabilirsiniz."
   ]
  },
  {
   "cell_type": "markdown",
   "id": "8e2636b5",
   "metadata": {},
   "source": [
    "# Düzenli İfadelerle Metin/Karakter Dizisi Değiştirme İşlemleri\n",
    "\n",
    "## sub() metodu\n",
    "\n",
    "Şimdiye kadar hep düzenli ifadeler yoluyla bir karakter dizisini nasıl eşleştireceğimizi inceledik. Ama tabii ki düzenli ifadeler yalnızca bir karakter dizisi **bulmak**la ilgili değildir. Bu araç aynı zamanda bir karakter dizisini **değiştirmeyi** de kapsar. Bu iş için temel olarak iki metot kullanılır. Bunlardan ilki `sub()` metodudur. Bu bölümde sub() metodunu inceleyeceğiz.\n",
    "\n",
    "En basit şekliyle `sub()` metodunu şu şekilde kullanabiliriz:"
   ]
  },
  {
   "cell_type": "code",
   "execution_count": 17,
   "id": "d881a2d1",
   "metadata": {},
   "outputs": [
    {
     "name": "stdout",
     "output_type": "stream",
     "text": [
      "yeşil başlıklı kız, yeşil elma dolu sepetiyle anneannesinin evine gidiyormuş!\n"
     ]
    }
   ],
   "source": [
    "a = \"Kırmızı başlıklı kız, kırmızı elma dolu sepetiyle anneannesinin evine gidiyormuş!\"\n",
    "\n",
    "derle = re.compile(\"kırmızı\", re.IGNORECASE)\n",
    "print(derle.sub(\"yeşil\", a))"
   ]
  },
  {
   "cell_type": "markdown",
   "id": "8cefe9c2",
   "metadata": {},
   "source": [
    "Burada karakter dizimiz içinde geçen bütün **kırmızı** kelimelerini **yeşil** kelimesiyle değiştirdik. Bunu yaparken de `re.IGNORECASE` adlı derleme seçeneğinden yararlandık.\n",
    "\n",
    "Elbette `sub()` metoduyla daha karmaşık işlemler yapılabilir. Bu noktada şöyle bir hatırlatma yapalım. Bu `sub()` metodu karakter dizilerinin `replace()` metoduna çok benzer. Ama tabii ki `sub()` metodu hem kendi başına `replace()` metodundan çok daha güçlüdür, hem de beraber kullanılabilecek derleme seçenekleri sayesinde `replace()` metodundan çok daha esnektir. Ama tabii ki, eğer yapmak istediğiniz iş `replace()` metoduyla halledilebiliyorsa en doğru yol, `replace()` metodunu kullanmaktır.\n",
    "\n",
    "Şimdi bu `sub()` metodunu kullanarak biraz daha karmaşık bir işlem yapacağız. Aşağıdaki metne bakalım:"
   ]
  },
  {
   "cell_type": "code",
   "execution_count": 19,
   "id": "5861077e",
   "metadata": {},
   "outputs": [],
   "source": [
    "metin = \"\"\"Karadeniz Ereğlisi denince akla ilk olarak kömür ve demir-çelik\n",
    "gelir. Kokusu ve tadıyla dünyaya nam salmış meşhur Osmanlı çileği ise ismini\n",
    "verdiği festival günleri dışında pek hatırlanmaz. Oysa Çin'den Arnavutköy'e\n",
    "oradan da Ereğli'ye getirilen kralların meyvesi çilek, burada geçirdiği değişim\n",
    "sonucu tadına doyulmaz bir hal alır. Ereğli'nin havasından mı suyundan mı\n",
    "bilinmez, kokusu, tadı bambaşka bir hale dönüşür ve meşhur Osmanlı çileği\n",
    "unvanını hak eder. Bu nazik ve aromalı çilekten yapılan reçel de likör de bir\n",
    "başka olur. Bu yıl dokuzuncusu düzenlenen Uluslararası Osmanlı Çileği Kültür\n",
    "Festivali'nde 36 üretici arasında yetiştirdiği çileklerle birinci olan Kocaali\n",
    "Köyü'nden Güner Özdemir, yılda bir ton ürün alıyor. 60 yaşındaki Özdemir,\n",
    "çileklerinin sırrını yoğun ilgiye ve içten duyduğu sevgiye bağlıyor: \"Erkekler\n",
    "bahçemize giremez. Koca ayaklarıyla ezerler çileklerimizi\" Çileği toplamanın zor\n",
    "olduğunu söyleyen Ayşe Özhan da çocukluğundan bu yana çilek bahçesinde\n",
    "çalışıyor. Her sabah 04.00'te kalkan Özhan, çileklerini özenle suluyor. Kasım\n",
    "başında ektiği çilek fideleri haziran başında meyve veriyor.\"\"\""
   ]
  },
  {
   "cell_type": "markdown",
   "id": "47ca9f88",
   "metadata": {},
   "source": [
    "Gelin bu metin içinde geçen **çilek** kelimelerini **erik** kelimesi ile değiştirelim. Ama bunu yaparken, metin içinde **çilek** kelimesinin **Çilek** şeklinde de geçtiğine dikkat edelim. Ayrıca Türkçe kuralları gereği bu **çilek** kelimesinin bazı yerlerde ünsüz yumuşamasına uğrayarak **çileğ-** şekline dönüştüğünü de unutmayalım.\n",
    "\n",
    "Bu metin içinde geçen **çilek** kelimelerini **erik**'le değiştirmek için birkaç yol kullanabilirsiniz. \n",
    "\n",
    "Birinci yolda, her değişiklik için ayrı bir düzenli ifade oluşturulabilir. Ancak bu yolun dezavantajı, metnin de birkaç kez kopyalanmasını gerektirmesidir. Çünkü ilk düzenli ifade oluşturulup buna göre metinde bir değişiklik yapıldıktan sonra, ilk değişiklikleri içeren metnin, farklı bir metin olarak kopyalanması gerekir (metin2 gibi.).\n",
    "\n",
    "Ardından ikinci değişiklik yapılacağı zaman, bu değişikliğin metin2 üzerinden yapılması gerekir. Aynı şekilde bu metin de, mesela, metin3 şeklinde tekrar kopyalanmalıdır. Bundan sonraki yeni bir değişiklik de bu metin3 üzerinden yapılacaktır. Bu durum bu şekilde uzar gider. Metni tekrar tekrar kopyalamak yerine, düzenli ifadeleri kullanarak şöyle bir çözüm de üretebiliriz:"
   ]
  },
  {
   "cell_type": "code",
   "execution_count": 20,
   "id": "7114bbe5",
   "metadata": {},
   "outputs": [
    {
     "name": "stdout",
     "output_type": "stream",
     "text": [
      "Karadeniz Ereğlisi denince akla ilk olarak kömür ve demir-çelik\n",
      "gelir. Kokusu ve tadıyla dünyaya nam salmış meşhur Osmanlı eriği ise ismini\n",
      "verdiği festival günleri dışında pek hatırlanmaz. Oysa Çin'den Arnavutköy'e\n",
      "oradan da Ereğli'ye getirilen kralların meyvesi erik, burada geçirdiği değişim\n",
      "sonucu tadına doyulmaz bir hal alır. Ereğli'nin havasından mı suyundan mı\n",
      "bilinmez, kokusu, tadı bambaşka bir hale dönüşür ve meşhur Osmanlı eriği\n",
      "unvanını hak eder. Bu nazik ve aromalı erikten yapılan reçel de likör de bir\n",
      "başka olur. Bu yıl dokuzuncusu düzenlenen Uluslararası Osmanlı Eriği Kültür\n",
      "Festivali'nde 36 üretici arasında yetiştirdiği eriklerle birinci olan Kocaali\n",
      "Köyü'nden Güner Özdemir, yılda bir ton ürün alıyor. 60 yaşındaki Özdemir,\n",
      "eriklerinin sırrını yoğun ilgiye ve içten duyduğu sevgiye bağlıyor: \"Erkekler\n",
      "bahçemize giremez. Koca ayaklarıyla ezerler eriklerimizi\" Eriği toplamanın zor\n",
      "olduğunu söyleyen Ayşe Özhan da çocukluğundan bu yana erik bahçesinde\n",
      "çalışıyor. Her sabah 04.00'te kalkan Özhan, eriklerini özenle suluyor. Kasım\n",
      "başında ektiği erik fideleri haziran başında meyve veriyor.\n"
     ]
    }
   ],
   "source": [
    "derle = re.compile(\"çile[kğ]\", re.IGNORECASE)\n",
    "\n",
    "def degistir(nesne):\n",
    "    a = {\"çileğ\":\"eriğ\", \"Çileğ\":\"Eriğ\", \"Çilek\":\"Erik\", \"çilek\":\"erik\"}\n",
    "    b = nesne.group().split()\n",
    "    for i in b:\n",
    "        return a[i]\n",
    "\n",
    "print(derle.sub(degistir, metin))"
   ]
  },
  {
   "cell_type": "markdown",
   "id": "dc3ed96d",
   "metadata": {},
   "source": [
    "Gördüğünüz gibi, `sub()` metodu, argüman olarak bir **fonksiyon** da alabiliyor. Yukarıdaki kodlar biraz karışık görünmüş olabilir. Tek tek açıklayalım.\n",
    "\n",
    "Öncelikle şu satıra bakalım:"
   ]
  },
  {
   "cell_type": "code",
   "execution_count": 21,
   "id": "2794a380",
   "metadata": {},
   "outputs": [],
   "source": [
    "derle = re.compile(\"çile[kğ]\", re.IGNORECASE)"
   ]
  },
  {
   "cell_type": "markdown",
   "id": "73cce5e0",
   "metadata": {},
   "source": [
    "Burada amacımız, metin içinde geçen **çilek** ve **çileğ** kelimelerini bulmak. Neden **çileğ**? Çünkü **çilek** kelimesi bir sesli harften önce geldiğinde sonundaki **k** harfi **ğ**'ye dönüşüyor. Bu seçenekli yapıyı, daha önceki bölümlerde gördüğümüz `[ ]` adlı metakarakter yardımıyla oluşturduk. Düzenli ifade kalıbımızın hem büyük harfleri hem de küçük harfleri aynı anda bulması için `re.IGNORECASE` seçeneğinden yararlandık.\n",
    "\n",
    "Şimdi de şu satırlara bakalım:"
   ]
  },
  {
   "cell_type": "code",
   "execution_count": 22,
   "id": "f9ee88e8",
   "metadata": {},
   "outputs": [],
   "source": [
    "def degistir(nesne):\n",
    "    a = {\"çileğ\":\"eriğ\", \"Çileğ\":\"Eriğ\", \"Çilek\":\"Erik\", \"çilek\":\"erik\"}\n",
    "    b = nesne.group().split()\n",
    "    for i in b:\n",
    "        return a[i]"
   ]
  },
  {
   "cell_type": "markdown",
   "id": "7c11bfb3",
   "metadata": {},
   "source": [
    "Burada, daha sonra `sub()` metodu içinde kullanacağımız fonksiyonu yazıyoruz. Fonksiyonu, `def degistir(nesne)` şeklinde tanımladık. Burada **“nesne”** adlı bir argüman kullanmamızın nedeni, fonksiyon içinde `group()` metodunu kullanacak olmamız. Bu metodu fonksiyon içinde **“nesne”** adlı argümana bağlayacağız. Bu fonksiyon, daha sonra yazacağımız `sub()` metodu tarafından çağrıldığında, yaptığımız arama işlemi sonucunda ortaya çıkan **“eşleşme nesnesi”** fonksiyona atanacaktır (eşleşme nesnesinin ne demek olduğunu ilk bölümlerden hatırlıyorsunuz). İşte **“nesne”** adlı bir argüman kullanmamızın nedeni de, eşleşme nesnelerinin bir metodu olan `group()` metodunu fonksiyon içinde kullanabilmek.\n",
    "\n",
    "Bir sonraki satırda bir adet sözlük görüyoruz:"
   ]
  },
  {
   "cell_type": "code",
   "execution_count": 23,
   "id": "e09d72e0",
   "metadata": {},
   "outputs": [],
   "source": [
    "a = {\"çileğ\":\"eriğ\", \"Çileğ\":\"Eriğ\", \"Çilek\":\"Erik\", \"çilek\":\"erik\"}"
   ]
  },
  {
   "cell_type": "markdown",
   "id": "87c45344",
   "metadata": {},
   "source": [
    "Bu sözlüğü oluşturmamızın nedeni, metin içinde geçen bütün **“çilek”** kelimelerini tek bir **“erik”** kelimesiyle değiştiremeyecek olmamız. Çünkü **“çilek”** kelimesi metin içinde pek çok farklı biçimde geçiyor. Başta da dediğimiz gibi, yukarıdaki yol yerine metni birkaç kez kopyalayarak ve her defasında bir değişiklik yaparak da sorunu çözebilirsiniz. (Mesela önce **“çilek”** kelimelerini bulup bunları **“erik”** ile değiştirirsiniz. Daha sonra **“çileğ”** kelimelerini arayıp bunları **“eriğ”** ile değiştirirsiniz, vb…) Ama metni tekrar tekrar oluşturmak pek performanslı bir yöntem olmayacaktır. Bizim şimdi kullandığımız yöntem metin kopyalama zorunluluğunu ortadan kaldırıyor. Bu sözlük içinde **“çilek”** kelimesinin alacağı şekilleri sözlük içinde birer anahtar olarak, **“erik”** kelimesinin alacağı şekilleri ise birer **“değer”** olarak belirliyoruz.\n",
    "\n",
    "Sonraki satırda iki metot birden var:\n",
    "\n",
    "`b = nesne.group().split()`\n",
    "\n",
    "Burada, fonksiyonumuzun argümanı olarak vazife gören eşleşme nesnesine ait metotlardan biri olan `group()` metodunu kullanıyoruz. Böylece `derle = re.compile(\"çile[kğ]\", re.IGNORECASE)` satırı yardımıyla metin içinde bulduğumuz bütün **“çilek”** ve çeşitlerini alıyoruz. Karakter dizilerinin `split()` metodunu kullanmamızın nedeni ise `group()` metodunun verdiği çıktıyı liste haline getirip daha kolay manipüle etmek. Burada `for i in b: print(i)` komutunu verirseniz `group()` metodu yardımıyla ne bulduğumuzu görebilirsiniz:\n",
    "\n",
    "<code>\n",
    "çileğ\n",
    "çilek\n",
    "çileğ\n",
    "çilek\n",
    "Çileğ\n",
    "çilek\n",
    "çilek\n",
    "çilek\n",
    "Çileğ\n",
    "çilek\n",
    "çilek\n",
    "çilek\n",
    "</code>"
   ]
  },
  {
   "cell_type": "markdown",
   "id": "62c6f920",
   "metadata": {},
   "source": [
    "Bu çıktıyı gördükten sonra, kodlarda yapmaya çalıştığımız şey daha anlamlı görünmeye başlamış olmalı. Şimdi sonraki satıra geçiyoruz:\n",
    "\n",
    "<code>for i in b:\n",
    "    return a[i]\n",
    "</code>\n",
    "\n",
    "Burada, `group()` metodu yardımıyla bulduğumuz eşleşmeler üzerinde bir `for` döngüsü oluşturduk. \n",
    "    Ardından da `return a[i]` komutunu vererek “a” adlı sözlük içinde yer alan öğeleri yazdırıyoruz. Bu arada, buradaki **“i”**nin yukarıda verdiğimiz `group()` çıktılarını temsil ettiğine dikkat edin. `a[i]` gibi bir komut verdiğimizde aslında sırasıyla şu komutları vermiş oluyoruz:  \n",
    "    \n",
    "<code>\n",
    "a[\"çilek\"]\n",
    "a[\"çileğ\"]\n",
    "a[\"çilek\"]\n",
    "a[\"Çileğ\"]\n",
    "a[\"çilek\"]\n",
    "a[\"çilek\"]\n",
    "a[\"çilek\"]\n",
    "a[\"Çileğ\"]\n",
    "a[\"çilek\"]\n",
    "a[\"çilek\"]\n",
    "</code>"
   ]
  },
  {
   "cell_type": "markdown",
   "id": "27e45ef2",
   "metadata": {},
   "source": [
    "Bu komutların çıktıları sırasıyla **“erik”, “eriğ”, “erik”, “Eriğ”, “erik”, “erik”, “erik”, “Eriğ”, “erik”, “erik”** olacaktır. İşte bu return satırı bir sonraki kod olan `print(derle.sub(degistir,metin))` ifadesinde etkinlik kazanacak. Bu son satırımız sözlük öğelerini tek tek metne uygulayacak ve mesela `a[\"çilek\"]` komutu sayesinde metin içinde **“çilek”** gördüğü yerde **“erik”** kelimesini yapıştıracak ve böylece bize istediğimiz şekilde değiştirilmiş bir metin verecektir…\n",
    "\n",
    "Bu kodların biraz karışık gibi göründüğünü biliyorum, ama aslında çok basit bir mantığı var: `group()` metodu ile metin içinde aradığımız kelimeleri ayıklıyor. Ardından da **“a”** sözlüğü içinde bunları anahtar olarak kullanarak **“çilek”** ve çeşitleri yerine **“erik”** ve çeşitlerini koyuyor.\n",
    "\n",
    "Yukarıda verdiğimiz düzenli ifadeyi böyle ufak bir metinde kullanmak çok anlamlı olmayabilir. Ama çok büyük metinler üzerinde çok çeşitli ve karmaşık değişiklikler yapmak istediğinizde bu kodların işinize yarayabileceğini göreceksiniz."
   ]
  },
  {
   "cell_type": "markdown",
   "id": "09c02468",
   "metadata": {},
   "source": [
    "## subn() metodu\n",
    "\n",
    "Bu metodu çok kısa bir şekilde anlatıp geçeceğiz. Çünkü bu metot `sub()` metoduyla neredeyse tamamen aynıdır. Tek farkı, `subn()` metodunun bir metin içinde yapılan değişiklik sayısını da göstermesidir. Yani bu metodu kullanarak, kullanıcılarınıza **“toplam şu kadar sayıda değişiklik yapılmıştır”** şeklinde bir bilgi verebilirsiniz. Bu metot çıktı olarak iki öğeli bir demet verir. \n",
    "\n",
    "Birinci öğe değiştirilen metin, ikinci öğe ise yapılan değişiklik sayısıdır. Yani kullanıcıya değişiklik sayısını göstermek için yapmanız gereken şey, bu demetin ikinci öğesini almaktır. Mesela `sub()` metodunu anlatırken verdiğimiz kodların son satırını şöyle değiştirebilirsiniz:"
   ]
  },
  {
   "cell_type": "code",
   "execution_count": 27,
   "id": "dc9427b6",
   "metadata": {},
   "outputs": [
    {
     "name": "stdout",
     "output_type": "stream",
     "text": [
      "Toplam 12 değişiklik yapılmıştır.\n"
     ]
    }
   ],
   "source": [
    "ab = derle.subn(degistir, metin)\n",
    "print(\"Toplam {} değişiklik yapılmıştır.\".format(ab[1]))"
   ]
  },
  {
   "cell_type": "markdown",
   "id": "8f62ee19",
   "metadata": {},
   "source": [
    "# Sonuç\n",
    "\n",
    "Böylelikle düzenli ifadeler konusunu bitirmiş olduk. Buradaki amacımız, size düzenli ifadeler konusunda genel bir bakış sunabilmekti. Bu yazıları okuduktan sonra kafanızda düzenli ifadelerle ilgili kabataslak da olsa bir resim oluştuysa bu yazılar amacına ulaşmış demektir. Elbette düzenli ifadeler burada anlattıklarımızdan ibaret değildir. Bu konunun üzerine eğildiğinizde aslında düzenli ifadelerin dipsiz bir kuyu gibi olduğunu göreceksiniz. \n",
    "\n",
    "Esasında en başta da dediğimiz gibi, düzenli ifadeler apayrı bir dil gibidir. Doğrusu şu ki, düzenli ifadeler başlı başına bağımsız bir sistemdir. Hemen hemen bütün programlama dilleri öyle ya da böyle düzenli ifadeleri destekler. Python’da düzenli ifadeleri bünyesine adapte etmiş dillerden biridir. Bizim düzenli ifadeler konusundaki yaklaşımımız, her zaman bunları **“gerektiğinde”** kullanmak olmalıdır. Dediğimiz gibi, eğer yapmak istediğiniz bir işlemi karakter dizilerinin metotları yardımıyla yapabiliyorsanız düzenli ifadelere girişmemek en iyisidir. Çünkü karakter dizisi metotları hem daha hızlıdır hem de anlaması daha kolaydır."
   ]
  },
  {
   "cell_type": "markdown",
   "id": "c8607535",
   "metadata": {},
   "source": [
    "Kaynak: https://python-istihza.yazbel.com/standart_moduller/regex.html"
   ]
  }
 ],
 "metadata": {
  "kernelspec": {
   "display_name": "Python 3 (ipykernel)",
   "language": "python",
   "name": "python3"
  },
  "language_info": {
   "codemirror_mode": {
    "name": "ipython",
    "version": 3
   },
   "file_extension": ".py",
   "mimetype": "text/x-python",
   "name": "python",
   "nbconvert_exporter": "python",
   "pygments_lexer": "ipython3",
   "version": "3.10.12"
  }
 },
 "nbformat": 4,
 "nbformat_minor": 5
}
