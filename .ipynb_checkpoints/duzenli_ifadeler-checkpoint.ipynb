{
 "cells": [
  {
   "cell_type": "markdown",
   "id": "fd79bdcc",
   "metadata": {},
   "source": [
    "# Düzenli İfadeler (Regular Expressions)\n",
    "\n",
    "Python’daki düzenli ifadelere ilişkin her şey, bir modül içinde tutulur. Bu modülün adı **re**'dir. \n",
    "Düzenli ifadeleri kullanabilmemiz için öncelikle bu **re** modülünü içe aktarmamız gerekir:"
   ]
  },
  {
   "cell_type": "code",
   "execution_count": 1,
   "id": "d6741d44",
   "metadata": {},
   "outputs": [],
   "source": [
    "import re"
   ]
  },
  {
   "cell_type": "markdown",
   "id": "cec23956",
   "metadata": {},
   "source": [
    "## match() Metodu\n",
    "\n",
    "Bir karakter dizisi içinde belirli bir kelimenin ya da kelime grubunun geçip geçmediğini öğrenmek istiyorsak bu işlemi `match()` metodunu kullanarak yapabiliriz:"
   ]
  },
  {
   "cell_type": "code",
   "execution_count": 2,
   "id": "af1e561c",
   "metadata": {},
   "outputs": [
    {
     "data": {
      "text/plain": [
       "<re.Match object; span=(0, 6), match='python'>"
      ]
     },
     "execution_count": 2,
     "metadata": {},
     "output_type": "execute_result"
    }
   ],
   "source": [
    "cumle = \"python güçlü bir programlama dilidir.\"\n",
    "\n",
    "re.match(\"python\", cumle)"
   ]
  },
  {
   "cell_type": "markdown",
   "id": "32c569a5",
   "metadata": {},
   "source": [
    "**match()** metodunun ilk argümanı karşılaştırılacak (aranacak) değer, ikinci argümanı ise , karşılaşırmanın (aramanın) yapılacağı karakter dizisi olmalıdır.\n",
    "Bu çıktıdaki **span** parametresi, aradığımız **python** karakter dizisinin, **cumle** değişkeninin 0. ile 6. karakterleri arasında yer aldığını söylüyor bize."
   ]
  },
  {
   "cell_type": "code",
   "execution_count": 3,
   "id": "41596f3d",
   "metadata": {},
   "outputs": [
    {
     "data": {
      "text/plain": [
       "(0, 6)"
      ]
     },
     "execution_count": 3,
     "metadata": {},
     "output_type": "execute_result"
    }
   ],
   "source": [
    "x = re.match(\"python\", cumle)\n",
    "x.span()"
   ]
  },
  {
   "cell_type": "markdown",
   "id": "528d1592",
   "metadata": {},
   "source": [
    "`match()` metodunun `span()` metodunu kullanarak değerleri doğrudan elde edebiliriz."
   ]
  },
  {
   "cell_type": "code",
   "execution_count": 4,
   "id": "0e41325e",
   "metadata": {},
   "outputs": [
    {
     "data": {
      "text/plain": [
       "'python'"
      ]
     },
     "execution_count": 4,
     "metadata": {},
     "output_type": "execute_result"
    }
   ],
   "source": [
    "cumle[0:6]"
   ]
  },
  {
   "cell_type": "markdown",
   "id": "79fb81d6",
   "metadata": {},
   "source": [
    "farklı tarzda yazmak istersek, şu ifadeyi de kullanabiliriz;"
   ]
  },
  {
   "cell_type": "code",
   "execution_count": 5,
   "id": "ae3e2385",
   "metadata": {},
   "outputs": [
    {
     "data": {
      "text/plain": [
       "'python'"
      ]
     },
     "execution_count": 5,
     "metadata": {},
     "output_type": "execute_result"
    }
   ],
   "source": [
    "cumle[x.span()[0]:x.span()[1]]"
   ]
  },
  {
   "cell_type": "markdown",
   "id": "e36e21ea",
   "metadata": {},
   "source": [
    "### group() Metodu\n",
    "\n",
    "`x = re.match(\"python\", cumle)` ifadesi ile eşleştirme komutunu bir değişkene (**x**'e) atadık. Hatırlarsanız, bu fonksiyonu komut satırına yazdığımızda bir eşleşme nesnesi elde ediyorduk. İşte burada değişkene atadığımız şey aslında bu eşleşme nesnesinin kendisi oluyor. Bu durumu şu şekilde teyit edebilirsiniz:"
   ]
  },
  {
   "cell_type": "code",
   "execution_count": 6,
   "id": "f5fdc7a7",
   "metadata": {},
   "outputs": [
    {
     "data": {
      "text/plain": [
       "re.Match"
      ]
     },
     "execution_count": 6,
     "metadata": {},
     "output_type": "execute_result"
    }
   ],
   "source": [
    "x = re.match(\"python\", cumle)\n",
    "type(x)"
   ]
  },
  {
   "cell_type": "markdown",
   "id": "031379bb",
   "metadata": {},
   "source": [
    "Gördüğünüz gibi **x** bir eşleştirme (match) nesnesidir.\n",
    "`group()` metodu, düzenli ifadelerin değil, eşleşme nesnelerinin bir metodudur.\n",
    "\n",
    "Bu metodu kullandığımızda direkt aranan değer ekrana yazdırılacaktır. Bu aşamada, metodun gereksiz ya da saçma olduğunu düşünüyor olabilirsiniz. Aşağıdaki konuları (özellikle Metakarakterler konusunu) okudukça, inceledikçe `group()` metodunun ne işe yaradığını anlayacaksınız."
   ]
  },
  {
   "cell_type": "code",
   "execution_count": 7,
   "id": "55c2d3f6",
   "metadata": {},
   "outputs": [
    {
     "data": {
      "text/plain": [
       "'python'"
      ]
     },
     "execution_count": 7,
     "metadata": {},
     "output_type": "execute_result"
    }
   ],
   "source": [
    "x.group()"
   ]
  },
  {
   "cell_type": "markdown",
   "id": "9445f131",
   "metadata": {},
   "source": [
    "`match()` metodu ile, **cumle** değişkeni içerisinde **Java** kelimesini arayıp, sonucu inceleyelim."
   ]
  },
  {
   "cell_type": "code",
   "execution_count": 8,
   "id": "96f8584b",
   "metadata": {},
   "outputs": [
    {
     "name": "stdout",
     "output_type": "stream",
     "text": [
      "None\n"
     ]
    }
   ],
   "source": [
    "print(re.match(\"Java\", cumle))"
   ]
  },
  {
   "cell_type": "markdown",
   "id": "bd28c050",
   "metadata": {},
   "source": [
    "Python, **match()** metodu yardımıyla aradığımız şeyi eşleştirdiği (bulduğu) zaman bir eşleşme nesnesi (match object) döndürüyor. Eğer eşleşme yoksa, o zaman da **None** değerini döndürüyor."
   ]
  },
  {
   "cell_type": "code",
   "execution_count": 9,
   "id": "220bc6b4",
   "metadata": {},
   "outputs": [
    {
     "name": "stdout",
     "output_type": "stream",
     "text": [
      "None\n"
     ]
    }
   ],
   "source": [
    "print(re.match(\"güçlü\", cumle))"
   ]
  },
  {
   "cell_type": "markdown",
   "id": "22a408fb",
   "metadata": {},
   "source": [
    "**cumle** değişkeninde **güçlü** ifadesi geçtiği halde `match()` metodu bize bir eşleşme nesnesi döndürmedi. Peki ama neden?\n",
    "\n",
    "Aslında bu gayet normal. Çünkü `match()` metodu bir karakter dizisinin sadece en başına bakar. \n",
    "Yani **python güçlü bir programlama dilidir.** ifadesini tutan **cumle** değişkenine `re.match(“güçlü”, cumle)` gibi bir fonksiyon uyguladığımızda, `match()` metodu **cumle** değişkeninin yalnızca en başına bakacağı ve **cumle** değişkeninin en başında **güçlü** yerine **python** ifadesi olduğu için, `match()` metodu bize olumsuz yanıt verecektir.\n",
    "\n",
    "Aslında `match()` metodunun yaptığı bu işi, karakter dizilerinin `split()` metodu yardımıyla da yapabiliriz:"
   ]
  },
  {
   "cell_type": "code",
   "execution_count": 10,
   "id": "bef7080f",
   "metadata": {},
   "outputs": [
    {
     "data": {
      "text/plain": [
       "True"
      ]
     },
     "execution_count": 10,
     "metadata": {},
     "output_type": "execute_result"
    }
   ],
   "source": [
    "cumle.split()[0] == \"python\""
   ]
  },
  {
   "cell_type": "code",
   "execution_count": 11,
   "id": "0df9c7e1",
   "metadata": {},
   "outputs": [
    {
     "data": {
      "text/plain": [
       "False"
      ]
     },
     "execution_count": 11,
     "metadata": {},
     "output_type": "execute_result"
    }
   ],
   "source": [
    "cumle.split()[0] == \"güçlü\""
   ]
  },
  {
   "cell_type": "markdown",
   "id": "c62ad647",
   "metadata": {},
   "source": [
    "aynı işi sadece `startswith()` metodunu kullanarak dahi yapabiliriz:"
   ]
  },
  {
   "cell_type": "code",
   "execution_count": 12,
   "id": "71222d91",
   "metadata": {
    "scrolled": true
   },
   "outputs": [
    {
     "data": {
      "text/plain": [
       "True"
      ]
     },
     "execution_count": 12,
     "metadata": {},
     "output_type": "execute_result"
    }
   ],
   "source": [
    "cumle.startswith(\"python\")"
   ]
  },
  {
   "cell_type": "markdown",
   "id": "b3de47e9",
   "metadata": {},
   "source": [
    "Eğer düzenli ifadelerden tek beklentiniz bir karakter dizisinin en başındaki veriyle eşleştirme işlemi yapmaksa, `split()` veya `startswith()` metotlarını kullanmak daha mantıklıdır. Çünkü `split()` ve `startswith()` metotları `match()` metodundan çok daha hızlı çalışacaktır."
   ]
  },
  {
   "cell_type": "markdown",
   "id": "bdf750c2",
   "metadata": {},
   "source": [
    "## search() Metodu\n",
    "\n",
    "`search()` metodu ile `match()` metodu arasında çok önemli bir fark vardır. `match()` metodu bir karakter dizisinin en başına bakıp bir **eşleştirme** işlemi yaparken, `search()` metodu karakter dizisinin genelinde bir **arama** işlemi yapar. Yani biri eşleştirir, öbürü arar.\n",
    "\n",
    "**güçlü** ifadesini `search()` metodu yardımı ile, **cumle** değişkeni içerisinde **arayalım**."
   ]
  },
  {
   "cell_type": "code",
   "execution_count": 13,
   "id": "9bfb5bf6",
   "metadata": {},
   "outputs": [
    {
     "data": {
      "text/plain": [
       "<re.Match object; span=(7, 12), match='güçlü'>"
      ]
     },
     "execution_count": 13,
     "metadata": {},
     "output_type": "execute_result"
    }
   ],
   "source": [
    "re.search(\"güçlü\", cumle)"
   ]
  },
  {
   "cell_type": "markdown",
   "id": "94b91444",
   "metadata": {},
   "source": [
    "Gördüğünüz gibi, `search()` metodu **güçlü** kelimesini buldu. Çünkü `search()` metodu, `match()` metodunun aksine, bir karakter dizisinin sadece baş tarafına bakmakla yetinmiyor, karakter dizisinin geneli üzerinde bir arama işlemi gerçekleştiriyor.\n",
    "\n",
    "Tıpkı `match()` metodunda olduğu gibi, `search()` metodunda da `span()` ve `group()` metotlarından faydalanarak bulunan şeyin hangi aralıkta olduğunu ve bu şeyin ne olduğunu görüntüleyebiliriz:"
   ]
  },
  {
   "cell_type": "code",
   "execution_count": 14,
   "id": "ece4b415",
   "metadata": {},
   "outputs": [
    {
     "data": {
      "text/plain": [
       "(7, 12)"
      ]
     },
     "execution_count": 14,
     "metadata": {},
     "output_type": "execute_result"
    }
   ],
   "source": [
    "kardiz = \"Python güçlü bir dildir\"\n",
    "nesne = re.search(\"güçlü\", kardiz)\n",
    "nesne.span()"
   ]
  },
  {
   "cell_type": "code",
   "execution_count": 15,
   "id": "8486f764",
   "metadata": {},
   "outputs": [
    {
     "data": {
      "text/plain": [
       "'güçlü'"
      ]
     },
     "execution_count": 15,
     "metadata": {},
     "output_type": "execute_result"
    }
   ],
   "source": [
    "nesne.group()"
   ]
  },
  {
   "cell_type": "markdown",
   "id": "20bbf9bb",
   "metadata": {},
   "source": [
    "Şimdiye kadar hep karakter dizileri üzerinde çalıştık. İsterseniz biraz da listeler üzerinde örnekler verelim.\n",
    "\n",
    "Şöyle bir listemiz olsun:"
   ]
  },
  {
   "cell_type": "code",
   "execution_count": 16,
   "id": "031e7c03",
   "metadata": {},
   "outputs": [
    {
     "ename": "TypeError",
     "evalue": "expected string or bytes-like object",
     "output_type": "error",
     "traceback": [
      "\u001b[0;31m---------------------------------------------------------------------------\u001b[0m",
      "\u001b[0;31mTypeError\u001b[0m                                 Traceback (most recent call last)",
      "\u001b[0;32m/tmp/ipykernel_38897/1944706800.py\u001b[0m in \u001b[0;36m<module>\u001b[0;34m\u001b[0m\n\u001b[1;32m      1\u001b[0m \u001b[0mliste\u001b[0m \u001b[0;34m=\u001b[0m \u001b[0;34m[\u001b[0m\u001b[0;34m\"elma\"\u001b[0m\u001b[0;34m,\u001b[0m \u001b[0;34m\"armut\"\u001b[0m\u001b[0;34m,\u001b[0m \u001b[0;34m\"kebap\"\u001b[0m\u001b[0;34m]\u001b[0m\u001b[0;34m\u001b[0m\u001b[0;34m\u001b[0m\u001b[0m\n\u001b[0;32m----> 2\u001b[0;31m \u001b[0mre\u001b[0m\u001b[0;34m.\u001b[0m\u001b[0msearch\u001b[0m\u001b[0;34m(\u001b[0m\u001b[0;34m\"kebap\"\u001b[0m\u001b[0;34m,\u001b[0m \u001b[0mliste\u001b[0m\u001b[0;34m)\u001b[0m\u001b[0;34m\u001b[0m\u001b[0;34m\u001b[0m\u001b[0m\n\u001b[0m",
      "\u001b[0;32m/usr/lib/python3.10/re.py\u001b[0m in \u001b[0;36msearch\u001b[0;34m(pattern, string, flags)\u001b[0m\n\u001b[1;32m    198\u001b[0m     \"\"\"Scan through string looking for a match to the pattern, returning\n\u001b[1;32m    199\u001b[0m     a Match object, or None if no match was found.\"\"\"\n\u001b[0;32m--> 200\u001b[0;31m     \u001b[0;32mreturn\u001b[0m \u001b[0m_compile\u001b[0m\u001b[0;34m(\u001b[0m\u001b[0mpattern\u001b[0m\u001b[0;34m,\u001b[0m \u001b[0mflags\u001b[0m\u001b[0;34m)\u001b[0m\u001b[0;34m.\u001b[0m\u001b[0msearch\u001b[0m\u001b[0;34m(\u001b[0m\u001b[0mstring\u001b[0m\u001b[0;34m)\u001b[0m\u001b[0;34m\u001b[0m\u001b[0;34m\u001b[0m\u001b[0m\n\u001b[0m\u001b[1;32m    201\u001b[0m \u001b[0;34m\u001b[0m\u001b[0m\n\u001b[1;32m    202\u001b[0m \u001b[0;32mdef\u001b[0m \u001b[0msub\u001b[0m\u001b[0;34m(\u001b[0m\u001b[0mpattern\u001b[0m\u001b[0;34m,\u001b[0m \u001b[0mrepl\u001b[0m\u001b[0;34m,\u001b[0m \u001b[0mstring\u001b[0m\u001b[0;34m,\u001b[0m \u001b[0mcount\u001b[0m\u001b[0;34m=\u001b[0m\u001b[0;36m0\u001b[0m\u001b[0;34m,\u001b[0m \u001b[0mflags\u001b[0m\u001b[0;34m=\u001b[0m\u001b[0;36m0\u001b[0m\u001b[0;34m)\u001b[0m\u001b[0;34m:\u001b[0m\u001b[0;34m\u001b[0m\u001b[0;34m\u001b[0m\u001b[0m\n",
      "\u001b[0;31mTypeError\u001b[0m: expected string or bytes-like object"
     ]
    }
   ],
   "source": [
    "liste = [\"elma\", \"armut\", \"kebap\"]\n",
    "re.search(\"kebap\", liste)"
   ]
  },
  {
   "cell_type": "markdown",
   "id": "84c5e8b2",
   "metadata": {},
   "source": [
    "Ne oldu? Hata aldınız, değil mi? Bu normal. Çünkü düzenli ifadeler karakter dizileri üzerinde işler. \n",
    "Bunlar doğrudan listeler üzerinde işlem yapamaz. O yüzden bizim Python’a biraz yardımcı olmamız gerekiyor:"
   ]
  },
  {
   "cell_type": "code",
   "execution_count": 17,
   "id": "591898eb",
   "metadata": {},
   "outputs": [
    {
     "name": "stdout",
     "output_type": "stream",
     "text": [
      "kebap\n"
     ]
    }
   ],
   "source": [
    "for i in liste:\n",
    "    nesne = re.search(\"kebap\", i)\n",
    "    if nesne:\n",
    "        print(nesne.group())"
   ]
  },
  {
   "cell_type": "markdown",
   "id": "a4df5332",
   "metadata": {},
   "source": [
    "## findall() Metodu\n"
   ]
  },
  {
   "cell_type": "code",
   "execution_count": null,
   "id": "75d78f76",
   "metadata": {},
   "outputs": [],
   "source": [
    "metin = \"\"\"Guido Van Rossum Python'ı geliştirmeye 1990 yılında başlamış... Yani aslında Python için nispeten yeni\n",
    "bir dil denebilir. Ancak Python'un çok uzun bir geçmişi olmasa da, bu dil öteki dillere kıyasla kolay olması, hızlı\n",
    "olması, ayrı bir derleyici programa ihtiyaç duymaması ve bunun gibi pek çok nedenden ötürü çoğu kimsenin gözdesi\n",
    "haline gelmiştir. Ayrıca Google'ın da Python'a özel bir önem ve değer verdiğini, çok iyi derecede Python bilenlere\n",
    "iş olanağı sunduğunu da hemen söyleyelim. Mesela bundan kısa bir süre önce Python'ın yaratıcısı Guido Van Rossum \n",
    "Google'de işe başladı...\"\"\""
   ]
  },
  {
   "cell_type": "markdown",
   "id": "6d0fa1fd",
   "metadata": {},
   "source": [
    "Bu metin içinde geçen bütün “Python” kelimelerini bulmak istiyoruz:"
   ]
  },
  {
   "cell_type": "code",
   "execution_count": null,
   "id": "0240e3ff",
   "metadata": {},
   "outputs": [],
   "source": [
    "print(re.findall(\"Python\", metin))"
   ]
  },
  {
   "cell_type": "markdown",
   "id": "85045b3f",
   "metadata": {},
   "source": [
    "Gördüğünüz gibi, metinde geçen bütün “Python” kelimelerini bir çırpıda liste olarak aldık."
   ]
  },
  {
   "cell_type": "markdown",
   "id": "ae014b49",
   "metadata": {},
   "source": [
    "## Metakarakterler\n",
    "\n",
    "Metakarakterler; kabaca, programlama dilleri için özel anlam ifade eden sembollerdir. Örneğin `\\n` bir bakıma bir metakarakterdir, çünkü `\\n` sembolü Python programlama dili için özel bir anlam taşır. Python bu sembolü gördüğü yerde yeni bir satıra geçer. Yukarıda **kendisiyle eşleşmeyen karakterler** ifadesiyle kastettiğimiz şey de işte bu metakarakterlerdir. Örneğin, **a** harfi yalnızca kendisiyle eşleşir. Tıpkı **istihza** kelimesinin yalnızca kendisiyle eşleşeceği gibi. Ancak mesela `\\t` ifadesi kendisiyle eşleşmez. Python bu işareti gördüğü yerde sekme (tab) düğmesine basılmış gibi tepki verecektir. İşte düzenli ifadelerde de buna benzer metakarakterlerden yararlanacağız. Düzenli ifadeler içinde de, özel anlam ifade eden pek çok sembol, yani metakarakter vardır. Şimdi bu meta karakterleri ayrı ayrı başlıklar altında inceleyelim."
   ]
  },
  {
   "cell_type": "markdown",
   "id": "2eb2dadc",
   "metadata": {},
   "source": [
    "## [] Sembolü\n",
    "\n",
    "İlk inceleyeceğimiz metakarakterlerden biri `[ ]` sembolüdür. Şimdi aşağıdaki listeden **özcan**, **özhan** ve **özkan** öğelerini bu sembolden yararlanarak nasıl ayıklayacağımızı görelim:"
   ]
  },
  {
   "cell_type": "code",
   "execution_count": 18,
   "id": "f297b749",
   "metadata": {},
   "outputs": [
    {
     "name": "stdout",
     "output_type": "stream",
     "text": [
      "özcan\n",
      "özkan\n",
      "özhan\n"
     ]
    }
   ],
   "source": [
    "liste = [\"özcan\", \"mehmet\", \"süleyman\", \"selim\", \"kemal\", \"özkan\", \"esra\", \"dündar\", \"esin\", \"esma\", \"özhan\", \n",
    "         \"özlem\"]\n",
    "\n",
    "for i in liste:\n",
    "    nesne = re.search(\"öz[chk]an\", i)\n",
    "    if nesne:\n",
    "        print(nesne.group())"
   ]
  }
 ],
 "metadata": {
  "kernelspec": {
   "display_name": "Python 3 (ipykernel)",
   "language": "python",
   "name": "python3"
  },
  "language_info": {
   "codemirror_mode": {
    "name": "ipython",
    "version": 3
   },
   "file_extension": ".py",
   "mimetype": "text/x-python",
   "name": "python",
   "nbconvert_exporter": "python",
   "pygments_lexer": "ipython3",
   "version": "3.10.12"
  }
 },
 "nbformat": 4,
 "nbformat_minor": 5
}
