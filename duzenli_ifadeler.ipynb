{
 "cells": [
  {
   "cell_type": "markdown",
   "id": "fd79bdcc",
   "metadata": {},
   "source": [
    "# Düzenli İfadeler (Regular Expressions)\n",
    "\n",
    "Düzenli ifadeler (RegEx ya da Regular Expression), bir karakter serisi içinde belli bir düzene uyan eşleşmeleri bulmanıza ve yönetmenize yardımcı olacak desenler oluşturmanıza izin veren bir metin dizisidir. Bir metinde geçen karakterleri RegEx desenleri (pattern) kullanarak arayabiliriz.\n",
    "\n",
    "Düzenli ifadeler bir arama işleminde eşleştirilecek bir deseni temsil eden özel dizelerdir. Java ve Perl gibi programlama dillerinden grep, sed ve metin düzenleyici vim gibi metin işleme araçlarına kadar çok çeşitli bilgi işlem uygulamalarında önemli bir araçtır. \n",
    "\n",
    "**Düzenli ifadeler sayesinde ne yapabiliriz bir bakalım :**\n",
    "\n",
    "* **Yer değiştirme:** Belirli parçaları değiştirir. Örnek olarak metin içerisindeki tüm büyük harfleri küçük harf ya da tüm küçük harfleri büyük harfe dönüştürebilirsiniz.\n",
    "\n",
    "* **Doğrulama :** Yazdığınız bir program olsun, bu programda büyük veya küçük harf, nokta veya rakam gibi kriterleri karşılayıp karşılamadığını kontrol edebilirsiniz.\n",
    "\n",
    "* **Arama :** Bir metin imzası içerisindeki tüm ögeleri aratabilirsiniz. Örneğin telefon numaraları ya da e-posta adresleri gibi.\n",
    "\n",
    "* **Koordinat ile hareket etme :** Örneğin, bir dizindeki belirli paketleri, dosyaları işlemek isteyebilirsiniz ancak yalnızca belirli koşulları karşılıyorlarsa, komut satırında çalıştırabiliyorsunuz.\n",
    "\n",
    "* **Metni Yeniden Biçimlendirme :** Örneğin, Bir programdaki verileri metin dosyası olarak dışa aktarabilir, ardından düzenini değiştirerek metin düzenleyicisi kullanarak başka bir programa aktarabilirsiniz.\n",
    "\n",
    "Python’daki düzenli ifadelere ilişkin her şey, bir modül içinde tutulur. Bu modülün adı **re**'dir. \n",
    "Düzenli ifadeleri kullanabilmemiz için öncelikle bu **re** modülünü içe aktarmamız gerekir:"
   ]
  },
  {
   "cell_type": "code",
   "execution_count": 2,
   "id": "d6741d44",
   "metadata": {},
   "outputs": [],
   "source": [
    "import re"
   ]
  },
  {
   "cell_type": "markdown",
   "id": "a791e7a9",
   "metadata": {},
   "source": [
    "## RegEx Fonksiyonları / Metotları\n",
    "\n",
    "**re** modülü bir veride geçen karakterleri bulmamıza ve değiştirmemize olanak sağlayan bazı fonksiyonlara sahiptir. Bunlar;\n",
    "\n",
    "| **Fonksiyon / Metot** | **Açıklama**                                   |\n",
    "| --------- | -------------------------------------------------- |\n",
    "| **match**     | Karakter dizisinin başında eşleşme olup olmadığını göster |\n",
    "| **search**    | Eşleşme olup olmadığını göster                     |\n",
    "| **findall**   | Tüm eşleşmeleri göster (liste halinde)             |\n",
    "| **finditer**  | Belirtilen desenlerin karakter dizileri içerisindeki konumunu bulmak için kullanabiliriz.|\n",
    "| **split**     | Eşleşme noktalarından böl ve liste oluştur         |\n",
    "| **sub**       | Eşleşmeleri verilen ifade ile değiştir             |"
   ]
  },
  {
   "cell_type": "markdown",
   "id": "cec23956",
   "metadata": {},
   "source": [
    "## match() Metodu\n",
    "\n",
    "Bir karakter dizisi başında belirli bir kelimenin ya da kelime grubunun geçip geçmediğini öğrenmek istiyorsak bu işlemi `match()` metodunu kullanarak yapabiliriz.\n",
    "\n",
    "**match()** metodunun;\n",
    "* ilk argümanı eşleştirilecek (aranacak) değer, \n",
    "* ikinci argümanı ise , eşleştirilecek (aramanın) yapılacağı karakter dizisi olmalıdır."
   ]
  },
  {
   "cell_type": "code",
   "execution_count": 21,
   "id": "af1e561c",
   "metadata": {},
   "outputs": [
    {
     "data": {
      "text/plain": [
       "<re.Match object; span=(0, 6), match='python'>"
      ]
     },
     "execution_count": 21,
     "metadata": {},
     "output_type": "execute_result"
    }
   ],
   "source": [
    "cumle = \"python güçlü bir programlama dilidir.\"\n",
    "\n",
    "re.match(r\"python\", cumle)"
   ]
  },
  {
   "cell_type": "markdown",
   "id": "32c569a5",
   "metadata": {},
   "source": [
    "Düzenli ifadeler için bir desen tanımlarken, `r` ifadesini yazmamız istenir. Yazılmadığı zaman da sorun çıkarmıyor ancak tanımlanan ifadenin bir değişken mi? yoksa bir düzenli ifade deseni mi? olduğunu belirtmek için bu şekilde kullanım faydalı olacaktır.\n",
    "\n",
    "Bu nesnenin dönen değeri ile ilgili bazı işlemler yapılabilir. Bunun için nesnenin yöntemleri kullanılır. Bunlar;\n",
    "\n",
    "* `span()` tuple olarak başlangıç ve bitiş pozisyonlarını verir.\n",
    "* `string` dönen string değeri yazdırır\n",
    "* `group()` eşleşmelerinin yerlerini içerir\n",
    "\n",
    "Bu çıktıdaki **span** parametresi, aradığımız **python** karakter dizisinin, **cumle** değişkeninin 0. ile 6. karakterleri arasında yer aldığını söylüyor bize."
   ]
  },
  {
   "cell_type": "markdown",
   "id": "6f80e4cf",
   "metadata": {},
   "source": [
    "### span() metodu\n",
    "\n",
    "Eşleşmenin başladığı ve sona erdiği karakterlerin sırasını verir (0=1. karakter):"
   ]
  },
  {
   "cell_type": "code",
   "execution_count": 3,
   "id": "41596f3d",
   "metadata": {},
   "outputs": [
    {
     "data": {
      "text/plain": [
       "(0, 6)"
      ]
     },
     "execution_count": 3,
     "metadata": {},
     "output_type": "execute_result"
    }
   ],
   "source": [
    "cumle = \"python güçlü bir programlama dilidir.\"\n",
    "x = re.match(\"python\", cumle)\n",
    "x.span()"
   ]
  },
  {
   "cell_type": "markdown",
   "id": "528d1592",
   "metadata": {},
   "source": [
    "`match()` metodunun `span()` metodunu kullanarak değerleri doğrudan elde edebiliriz."
   ]
  },
  {
   "cell_type": "code",
   "execution_count": 4,
   "id": "0e41325e",
   "metadata": {},
   "outputs": [
    {
     "data": {
      "text/plain": [
       "'python'"
      ]
     },
     "execution_count": 4,
     "metadata": {},
     "output_type": "execute_result"
    }
   ],
   "source": [
    "cumle[0:6]"
   ]
  },
  {
   "cell_type": "markdown",
   "id": "79fb81d6",
   "metadata": {},
   "source": [
    "farklı tarzda yazmak istersek, şu ifadeyi de kullanabiliriz;"
   ]
  },
  {
   "cell_type": "code",
   "execution_count": 5,
   "id": "ae3e2385",
   "metadata": {},
   "outputs": [
    {
     "data": {
      "text/plain": [
       "'python'"
      ]
     },
     "execution_count": 5,
     "metadata": {},
     "output_type": "execute_result"
    }
   ],
   "source": [
    "cumle[x.span()[0]:x.span()[1]]"
   ]
  },
  {
   "cell_type": "code",
   "execution_count": 27,
   "id": "2eb5becf",
   "metadata": {
    "scrolled": true
   },
   "outputs": [
    {
     "name": "stdout",
     "output_type": "stream",
     "text": [
      "(9, 15)\n"
     ]
    }
   ],
   "source": [
    "txt = \"Bu sabah yağmur var İstanbul'da...\"\n",
    "a = re.search(r\"\\by\\w+\", txt)\n",
    "print(a.span())"
   ]
  },
  {
   "cell_type": "markdown",
   "id": "2494abea",
   "metadata": {},
   "source": [
    "### string Özelliği\n",
    "\n",
    "Eşleşme bulunan metni gösterir."
   ]
  },
  {
   "cell_type": "code",
   "execution_count": 28,
   "id": "8877227d",
   "metadata": {},
   "outputs": [
    {
     "name": "stdout",
     "output_type": "stream",
     "text": [
      "Bu sabah yağmur var İstanbul'da...\n"
     ]
    }
   ],
   "source": [
    "txt = \"Bu sabah yağmur var İstanbul'da...\"\n",
    "a = re.search(r\"\\by\\w+\", txt)\n",
    "print(a.string)"
   ]
  },
  {
   "cell_type": "markdown",
   "id": "e36e21ea",
   "metadata": {},
   "source": [
    "### group() Metodu\n",
    "\n",
    " Belirtilen desen ile eşleşen değeri döndürür."
   ]
  },
  {
   "cell_type": "code",
   "execution_count": 29,
   "id": "ee27ea06",
   "metadata": {},
   "outputs": [
    {
     "name": "stdout",
     "output_type": "stream",
     "text": [
      "yağmur\n"
     ]
    }
   ],
   "source": [
    "txt = \"Bu sabah yağmur var İstanbul'da...\"\n",
    "a = re.search(r\"\\by\\w+\", txt)\n",
    "print(a.group())"
   ]
  },
  {
   "cell_type": "markdown",
   "id": "1427717b",
   "metadata": {},
   "source": [
    "`x = re.match(\"python\", cumle)` ifadesi ile eşleştirme komutunu bir değişkene (**x**'e) atadık. Hatırlarsanız, bu fonksiyonu komut satırına yazdığımızda bir eşleşme nesnesi elde ediyorduk. İşte burada değişkene atadığımız şey aslında bu eşleşme nesnesinin kendisi oluyor. Bu durumu şu şekilde teyit edebilirsiniz:"
   ]
  },
  {
   "cell_type": "code",
   "execution_count": 4,
   "id": "f5fdc7a7",
   "metadata": {},
   "outputs": [
    {
     "data": {
      "text/plain": [
       "re.Match"
      ]
     },
     "execution_count": 4,
     "metadata": {},
     "output_type": "execute_result"
    }
   ],
   "source": [
    "cumle = \"python güçlü bir programlama dilidir.\"\n",
    "x = re.match(\"python\", cumle)\n",
    "type(x)"
   ]
  },
  {
   "cell_type": "markdown",
   "id": "031379bb",
   "metadata": {},
   "source": [
    "Gördüğünüz gibi **x** bir eşleştirme (match) nesnesidir.\n",
    "`group()` metodu, düzenli ifadelerin değil, eşleşme nesnelerinin bir metodudur.\n",
    "\n",
    "Bu metodu kullandığımızda direkt aranan değer ekrana yazdırılacaktır. Bu aşamada, metodun gereksiz ya da saçma olduğunu düşünüyor olabilirsiniz. **Eşleşme Nesnelerinin Metotları** başlığı altında  `group()` metodunun ne işe yaradığını daha detaylı inceleyeceğiz."
   ]
  },
  {
   "cell_type": "code",
   "execution_count": 46,
   "id": "55c2d3f6",
   "metadata": {},
   "outputs": [
    {
     "data": {
      "text/plain": [
       "'python'"
      ]
     },
     "execution_count": 46,
     "metadata": {},
     "output_type": "execute_result"
    }
   ],
   "source": [
    "x.group()"
   ]
  },
  {
   "cell_type": "markdown",
   "id": "9445f131",
   "metadata": {},
   "source": [
    "`match()` metodu ile, **cumle** değişkeni içerisinde **Java** kelimesini arayıp, sonucu inceleyelim."
   ]
  },
  {
   "cell_type": "code",
   "execution_count": 5,
   "id": "96f8584b",
   "metadata": {},
   "outputs": [
    {
     "name": "stdout",
     "output_type": "stream",
     "text": [
      "None\n"
     ]
    }
   ],
   "source": [
    "cumle = \"python güçlü bir programlama dilidir.\"\n",
    "print(re.match(\"Java\", cumle))"
   ]
  },
  {
   "cell_type": "markdown",
   "id": "bd28c050",
   "metadata": {},
   "source": [
    "Python, **match()** metodu yardımıyla aradığımız şeyi eşleştirdiği (bulduğu) zaman bir eşleşme nesnesi (match object) döndürüyor. Eğer eşleşme yoksa, o zaman da **None** değerini döndürüyor."
   ]
  },
  {
   "cell_type": "code",
   "execution_count": 6,
   "id": "220bc6b4",
   "metadata": {},
   "outputs": [
    {
     "name": "stdout",
     "output_type": "stream",
     "text": [
      "None\n"
     ]
    }
   ],
   "source": [
    "cumle = \"python güçlü bir programlama dilidir.\"\n",
    "print(re.match(\"güçlü\", cumle))"
   ]
  },
  {
   "cell_type": "markdown",
   "id": "22a408fb",
   "metadata": {},
   "source": [
    "**cumle** değişkeninde **güçlü** ifadesi geçtiği halde `match()` metodu bize bir eşleşme nesnesi döndürmedi. Peki ama neden?\n",
    "\n",
    "Aslında bu gayet normal. Çünkü `match()` metodu bir karakter dizisinin sadece en başına bakar. \n",
    "Yani \"**python güçlü bir programlama dilidir.**\" ifadesini tutan **cumle** değişkenine `re.match(“güçlü”, cumle)` gibi bir fonksiyon uyguladığımızda, `match()` metodu **cumle** değişkeninin yalnızca en başına bakacak ve **cumle** değişkeninin en başında **güçlü** yerine **python** ifadesini gördüğü için, bize olumsuz yanıt verecektir.\n",
    "\n",
    "Aslında `match()` metodunun yaptığı bu işi, karakter dizilerinin `split()` metodu yardımıyla da yapabiliriz:"
   ]
  },
  {
   "cell_type": "markdown",
   "id": "bdf750c2",
   "metadata": {},
   "source": [
    "## search() Metodu\n",
    "\n",
    "`search()` metodu ile `match()` metodu arasında çok önemli bir fark vardır. `match()` metodu bir karakter dizisinin en başına bakıp bir **eşleştirme** işlemi yaparken, `search()` metodu karakter dizisinin genelinde bir **arama** işlemi yapar. Yani biri eşleştirir, öbürü arar.\n",
    "\n",
    "`search()` metodu, eşleşmenin gerçekleştiği ilk değeri döndürür. Aranan değer ya da desen, karakter dizisi içerisinde birden fazla geçse bile, ilk eşleşmede işlem sonlanır.\n",
    "\n",
    "**güçlü** ifadesini `search()` metodu yardımı ile, **cumle** değişkeni içerisinde **arayalım**."
   ]
  },
  {
   "cell_type": "code",
   "execution_count": 12,
   "id": "9bfb5bf6",
   "metadata": {},
   "outputs": [
    {
     "data": {
      "text/plain": [
       "<re.Match object; span=(7, 12), match='güçlü'>"
      ]
     },
     "execution_count": 12,
     "metadata": {},
     "output_type": "execute_result"
    }
   ],
   "source": [
    "cumle = \"python güçlü bir programlama dilidir.\"\n",
    "re.search(\"güçlü\", cumle)"
   ]
  },
  {
   "cell_type": "markdown",
   "id": "94b91444",
   "metadata": {},
   "source": [
    "Gördüğünüz gibi, `search()` metodu **güçlü** kelimesini buldu. Çünkü `search()` metodu, `match()` metodunun aksine, bir karakter dizisinin sadece baş tarafına bakmakla yetinmiyor, karakter dizisinin geneli üzerinde bir arama işlemi gerçekleştiriyor.\n",
    "\n",
    "Tıpkı `match()` metodunda olduğu gibi, `search()` metodunda da `span()` ve `group()` metotlarından faydalanarak bulunan şeyin hangi aralıkta olduğunu ve bu şeyin ne olduğunu görüntüleyebiliriz:"
   ]
  },
  {
   "cell_type": "code",
   "execution_count": 8,
   "id": "ece4b415",
   "metadata": {},
   "outputs": [
    {
     "data": {
      "text/plain": [
       "(7, 12)"
      ]
     },
     "execution_count": 8,
     "metadata": {},
     "output_type": "execute_result"
    }
   ],
   "source": [
    "kardiz = \"Python güçlü bir dildir\"\n",
    "nesne = re.search(\"güçlü\", kardiz)\n",
    "nesne.span()"
   ]
  },
  {
   "cell_type": "code",
   "execution_count": 54,
   "id": "8486f764",
   "metadata": {},
   "outputs": [
    {
     "data": {
      "text/plain": [
       "'güçlü'"
      ]
     },
     "execution_count": 54,
     "metadata": {},
     "output_type": "execute_result"
    }
   ],
   "source": [
    "nesne.group()"
   ]
  },
  {
   "cell_type": "markdown",
   "id": "53bc6a78",
   "metadata": {},
   "source": [
    "### Start() Medodu\n",
    "\n",
    "Arama deseni ile eşleşen ifadenin, karakter dizisinin kaçıncı karakterinde **başladığını** görmek için `start()` metodunu kullanabiliriz ;"
   ]
  },
  {
   "cell_type": "code",
   "execution_count": 9,
   "id": "e41042b9",
   "metadata": {},
   "outputs": [
    {
     "data": {
      "text/plain": [
       "7"
      ]
     },
     "execution_count": 9,
     "metadata": {},
     "output_type": "execute_result"
    }
   ],
   "source": [
    "nesne.start()"
   ]
  },
  {
   "cell_type": "markdown",
   "id": "bc0c1251",
   "metadata": {},
   "source": [
    "### End() Medodu\n",
    "\n",
    "Arama deseni ile eşleşen ifadenin, karakter dizisinin kaçıncı karakterinde **bittiğini** görmek için `end()` metodunu kullanabiliriz ;"
   ]
  },
  {
   "cell_type": "code",
   "execution_count": 10,
   "id": "15aeb135",
   "metadata": {},
   "outputs": [
    {
     "data": {
      "text/plain": [
       "12"
      ]
     },
     "execution_count": 10,
     "metadata": {},
     "output_type": "execute_result"
    }
   ],
   "source": [
    "nesne.end()"
   ]
  },
  {
   "cell_type": "markdown",
   "id": "20bbf9bb",
   "metadata": {},
   "source": [
    "Şimdiye kadar hep karakter dizileri üzerinde çalıştık. İsterseniz biraz da listeler üzerinde örnekler verelim.\n",
    "\n",
    "Şöyle bir listemiz olsun:"
   ]
  },
  {
   "cell_type": "code",
   "execution_count": 55,
   "id": "031e7c03",
   "metadata": {},
   "outputs": [
    {
     "ename": "TypeError",
     "evalue": "expected string or bytes-like object",
     "output_type": "error",
     "traceback": [
      "\u001b[0;31m---------------------------------------------------------------------------\u001b[0m",
      "\u001b[0;31mTypeError\u001b[0m                                 Traceback (most recent call last)",
      "\u001b[0;32m/tmp/ipykernel_3704/1944706800.py\u001b[0m in \u001b[0;36m<module>\u001b[0;34m\u001b[0m\n\u001b[1;32m      1\u001b[0m \u001b[0mliste\u001b[0m \u001b[0;34m=\u001b[0m \u001b[0;34m[\u001b[0m\u001b[0;34m\"elma\"\u001b[0m\u001b[0;34m,\u001b[0m \u001b[0;34m\"armut\"\u001b[0m\u001b[0;34m,\u001b[0m \u001b[0;34m\"kebap\"\u001b[0m\u001b[0;34m]\u001b[0m\u001b[0;34m\u001b[0m\u001b[0;34m\u001b[0m\u001b[0m\n\u001b[0;32m----> 2\u001b[0;31m \u001b[0mre\u001b[0m\u001b[0;34m.\u001b[0m\u001b[0msearch\u001b[0m\u001b[0;34m(\u001b[0m\u001b[0;34m\"kebap\"\u001b[0m\u001b[0;34m,\u001b[0m \u001b[0mliste\u001b[0m\u001b[0;34m)\u001b[0m\u001b[0;34m\u001b[0m\u001b[0;34m\u001b[0m\u001b[0m\n\u001b[0m",
      "\u001b[0;32m/usr/lib/python3.10/re.py\u001b[0m in \u001b[0;36msearch\u001b[0;34m(pattern, string, flags)\u001b[0m\n\u001b[1;32m    198\u001b[0m     \"\"\"Scan through string looking for a match to the pattern, returning\n\u001b[1;32m    199\u001b[0m     a Match object, or None if no match was found.\"\"\"\n\u001b[0;32m--> 200\u001b[0;31m     \u001b[0;32mreturn\u001b[0m \u001b[0m_compile\u001b[0m\u001b[0;34m(\u001b[0m\u001b[0mpattern\u001b[0m\u001b[0;34m,\u001b[0m \u001b[0mflags\u001b[0m\u001b[0;34m)\u001b[0m\u001b[0;34m.\u001b[0m\u001b[0msearch\u001b[0m\u001b[0;34m(\u001b[0m\u001b[0mstring\u001b[0m\u001b[0;34m)\u001b[0m\u001b[0;34m\u001b[0m\u001b[0;34m\u001b[0m\u001b[0m\n\u001b[0m\u001b[1;32m    201\u001b[0m \u001b[0;34m\u001b[0m\u001b[0m\n\u001b[1;32m    202\u001b[0m \u001b[0;32mdef\u001b[0m \u001b[0msub\u001b[0m\u001b[0;34m(\u001b[0m\u001b[0mpattern\u001b[0m\u001b[0;34m,\u001b[0m \u001b[0mrepl\u001b[0m\u001b[0;34m,\u001b[0m \u001b[0mstring\u001b[0m\u001b[0;34m,\u001b[0m \u001b[0mcount\u001b[0m\u001b[0;34m=\u001b[0m\u001b[0;36m0\u001b[0m\u001b[0;34m,\u001b[0m \u001b[0mflags\u001b[0m\u001b[0;34m=\u001b[0m\u001b[0;36m0\u001b[0m\u001b[0;34m)\u001b[0m\u001b[0;34m:\u001b[0m\u001b[0;34m\u001b[0m\u001b[0;34m\u001b[0m\u001b[0m\n",
      "\u001b[0;31mTypeError\u001b[0m: expected string or bytes-like object"
     ]
    }
   ],
   "source": [
    "liste = [\"elma\", \"armut\", \"kebap\"]\n",
    "re.search(\"kebap\", liste)"
   ]
  },
  {
   "cell_type": "markdown",
   "id": "84c5e8b2",
   "metadata": {},
   "source": [
    "Ne oldu? Hata aldınız, değil mi? Bu normal. Çünkü düzenli ifadeler karakter dizileri üzerinde işler. \n",
    "Bunlar doğrudan listeler üzerinde işlem yapamaz. O yüzden bizim Python’a biraz yardımcı olmamız gerekiyor:"
   ]
  },
  {
   "cell_type": "code",
   "execution_count": 10,
   "id": "591898eb",
   "metadata": {},
   "outputs": [
    {
     "name": "stdout",
     "output_type": "stream",
     "text": [
      "kebap\n"
     ]
    }
   ],
   "source": [
    "liste = [\"elma\", \"armut\", \"kebap\"]\n",
    "for i in liste:\n",
    "    nesne = re.search(\"kebap\", i)\n",
    "    if nesne:\n",
    "        print(nesne.group())"
   ]
  },
  {
   "cell_type": "markdown",
   "id": "a4df5332",
   "metadata": {},
   "source": [
    "## findall() Metodu\n",
    "\n",
    "Bir metin içinde geçen belirli kelimelerin tümünü bulmak istiyorsak `findall()` metodunu kullanmalıyız."
   ]
  },
  {
   "cell_type": "code",
   "execution_count": 1,
   "id": "75d78f76",
   "metadata": {},
   "outputs": [],
   "source": [
    "metin = \"\"\"Guido Van Rossum Python'ı geliştirmeye 1990 yılında başlamış... Yani aslında Python için nispeten yeni\n",
    "bir dil denebilir. Ancak Python'un çok uzun bir geçmişi olmasa da, bu dil öteki dillere kıyasla kolay olması, hızlı\n",
    "olması, ayrı bir derleyici programa ihtiyaç duymaması ve bunun gibi pek çok nedenden ötürü çoğu kimsenin gözdesi\n",
    "haline gelmiştir. Ayrıca Google'ın da Python'a özel bir önem ve değer verdiğini, çok iyi derecede Python bilenlere\n",
    "iş olanağı sunduğunu da hemen söyleyelim. Mesela bundan kısa bir süre önce Python'ın yaratıcısı Guido Van Rossum \n",
    "Google'de işe başladı...\"\"\""
   ]
  },
  {
   "cell_type": "markdown",
   "id": "6d0fa1fd",
   "metadata": {},
   "source": [
    "Yukarıdaki **metin** değişkeni içinde geçen bütün **Python** kelimelerini bulmak istersek aşağıdaki kodu çalıştırmalıyız;"
   ]
  },
  {
   "cell_type": "code",
   "execution_count": 58,
   "id": "0240e3ff",
   "metadata": {},
   "outputs": [
    {
     "name": "stdout",
     "output_type": "stream",
     "text": [
      "['Python', 'Python', 'Python', 'Python', 'Python', 'Python']\n"
     ]
    }
   ],
   "source": [
    "print(re.findall(\"Python\", metin))"
   ]
  },
  {
   "cell_type": "markdown",
   "id": "85045b3f",
   "metadata": {},
   "source": [
    "Gördüğünüz gibi, metinde geçen bütün “Python” kelimelerini bir çırpıda liste olarak aldık."
   ]
  },
  {
   "cell_type": "markdown",
   "id": "6508da34",
   "metadata": {},
   "source": [
    "## finditer() Metodu\n",
    "\n",
    "Belirtilen desenlerin karakter dizileri içerisindeki konumunu bulmak için `finditer()` metodunu kullanabiliriz. `finditer()` metodu liste döndürmez, iterable bir nesne döndürür.\n",
    "\n",
    "Örneğin, yukarıda belirtilen **metin** değişkeni içerisinde **Python** ifadesinin (deseninin) hangi konumda olduğunu (aranan desenin başlangıç ve bitiş değerlerini) bulmaya çalışalım."
   ]
  },
  {
   "cell_type": "code",
   "execution_count": 20,
   "id": "3d76c094",
   "metadata": {
    "scrolled": false
   },
   "outputs": [
    {
     "name": "stdout",
     "output_type": "stream",
     "text": [
      "(17, 23)\n",
      "(77, 83)\n",
      "(128, 134)\n",
      "(370, 376)\n",
      "(430, 436)\n",
      "(522, 528)\n"
     ]
    }
   ],
   "source": [
    "for i in re.finditer(\"Python\", metin):\n",
    "    print(i.span())"
   ]
  },
  {
   "cell_type": "code",
   "execution_count": 25,
   "id": "fd728c2d",
   "metadata": {},
   "outputs": [
    {
     "name": "stdout",
     "output_type": "stream",
     "text": [
      "1990\n"
     ]
    }
   ],
   "source": [
    "desen = r\"\\d{4}\"\n",
    "eslesenler = re.finditer(desen, metin)\n",
    "\n",
    "for eslesen in eslesenler:\n",
    "    print(eslesen.group())"
   ]
  },
  {
   "cell_type": "markdown",
   "id": "8bb35457",
   "metadata": {},
   "source": [
    "## split() Metodu\n",
    "\n",
    "`split()` metodu veriyi eşleşmelerin olduğu noktalardan böler ve liste haline getirir. Örneğin aşağıdaki kod çalıştırılırsa cümle boşluk (`\\s`) karakterlerinden bölünür (yani kelimelere ayrılır):"
   ]
  },
  {
   "cell_type": "code",
   "execution_count": 24,
   "id": "a12b255c",
   "metadata": {
    "scrolled": true
   },
   "outputs": [
    {
     "name": "stdout",
     "output_type": "stream",
     "text": [
      "['Guido Van Rossum ', \"'ı geliştirmeye 1990 yılında başlamış... Yani aslında \", ' için nispeten yeni\\nbir dil denebilir. Ancak ', \"'un çok uzun bir geçmişi olmasa da, bu dil öteki dillere kıyasla kolay olması, hızlı\\nolması, ayrı bir derleyici programa ihtiyaç duymaması ve bunun gibi pek çok nedenden ötürü çoğu kimsenin gözdesi\\nhaline gelmiştir. Ayrıca Google'ın da \", \"'a özel bir önem ve değer verdiğini, çok iyi derecede \", ' bilenlere\\niş olanağı sunduğunu da hemen söyleyelim. Mesela bundan kısa bir süre önce ', \"'ın yaratıcısı Guido Van Rossum \\nGoogle'de işe başladı...\"]\n"
     ]
    }
   ],
   "source": [
    "desen = r\"Python\"\n",
    "bol = re.split(desen, metin)\n",
    "\n",
    "print(bol)"
   ]
  },
  {
   "cell_type": "markdown",
   "id": "541db69f",
   "metadata": {},
   "source": [
    "Gördüğünüz gibi, metin, **Python** ibaresi gördüğün yerden itibaren parçalara ayrılarak liste oluşturdu. **Python** ibaresi listeye dahil edilmedi."
   ]
  },
  {
   "cell_type": "code",
   "execution_count": 19,
   "id": "e678b7cb",
   "metadata": {},
   "outputs": [
    {
     "name": "stdout",
     "output_type": "stream",
     "text": [
      "['python', 'güçlü', 'bir', 'programlama', 'dilidir.']\n"
     ]
    }
   ],
   "source": [
    "cumle = \"python güçlü bir programlama dilidir.\"\n",
    "x = re.split(\"\\s\", cumle)\n",
    "print(x)"
   ]
  },
  {
   "cell_type": "code",
   "execution_count": 49,
   "id": "bef7080f",
   "metadata": {},
   "outputs": [
    {
     "data": {
      "text/plain": [
       "True"
      ]
     },
     "execution_count": 49,
     "metadata": {},
     "output_type": "execute_result"
    }
   ],
   "source": [
    "cumle.split()[0] == \"python\""
   ]
  },
  {
   "cell_type": "code",
   "execution_count": 51,
   "id": "71222d91",
   "metadata": {
    "scrolled": false
   },
   "outputs": [
    {
     "data": {
      "text/plain": [
       "True"
      ]
     },
     "execution_count": 51,
     "metadata": {},
     "output_type": "execute_result"
    }
   ],
   "source": [
    "cumle.startswith(\"python\")"
   ]
  },
  {
   "cell_type": "code",
   "execution_count": 50,
   "id": "0df9c7e1",
   "metadata": {},
   "outputs": [
    {
     "data": {
      "text/plain": [
       "False"
      ]
     },
     "execution_count": 50,
     "metadata": {},
     "output_type": "execute_result"
    }
   ],
   "source": [
    "cumle.split()[0] == \"güçlü\""
   ]
  },
  {
   "cell_type": "markdown",
   "id": "c31b38c5",
   "metadata": {},
   "source": [
    "Bölünme sayısı `split()` fonksiyonunun 3. parametresinde **(maxsplit)** belirtilebilir. Aşağıdaki örnekte veri en çok 2 boşluk kadar (3 parça) bölünecektir:"
   ]
  },
  {
   "cell_type": "code",
   "execution_count": 8,
   "id": "8d51cb54",
   "metadata": {
    "scrolled": true
   },
   "outputs": [
    {
     "name": "stdout",
     "output_type": "stream",
     "text": [
      "['python', 'güçlü', 'bir programlama dilidir.']\n"
     ]
    }
   ],
   "source": [
    "cumle = \"python güçlü bir programlama dilidir.\"\n",
    "x = re.split(\"\\s\", cumle, 2)\n",
    "print(x)"
   ]
  },
  {
   "cell_type": "markdown",
   "id": "c62ad647",
   "metadata": {},
   "source": [
    "Aynı işi sadece `startswith()` metodunu kullanarak dahi yapabiliriz:"
   ]
  },
  {
   "cell_type": "markdown",
   "id": "b3de47e9",
   "metadata": {},
   "source": [
    "Eğer düzenli ifadelerden tek beklentiniz bir karakter dizisinin en başındaki veriyle eşleştirme işlemi yapmaksa, `split()` veya `startswith()` metotlarını kullanmak daha mantıklıdır. Çünkü `split()` ve `startswith()` metotları `match()` metodundan çok daha hızlı çalışacaktır."
   ]
  },
  {
   "cell_type": "markdown",
   "id": "8045c2da",
   "metadata": {},
   "source": [
    "## sub() Metodu\n",
    "\n",
    "`sub()` metodu, eşleşmeleri verilen ifadelerle değiştirir. **Substitute** kelimesi, yerine koy, değiştir anlamına gelir. `sub()` metodunun adın bu kelimeden gelri. Pek çok uygulamadan bildiğimiz **Bul ve Değiştir** fonksiyonudur aslında.Bu Metod, diğer bölümde detaylı olarak anlatılıyor.\n",
    "\n",
    "`sub()` metodunun;\n",
    "* ilk argümanı değiştirilecek değeri, \n",
    "* ikinci argümanı yerine konulacak değeri, \n",
    "* üçüncü argümanı hangi yapı/ dizgi/ paragraf içinde değişimin yapılacağını,\n",
    "* dördüncü argümanı kaç eşleşmede değişiklik yapılacağını,\n",
    "\n",
    "tanımlar.\n",
    "\n",
    "Aşağıdaki örnekte **kavun** kelimesini bulacak, ardından **karpuz** olarak değiştirecektir:"
   ]
  },
  {
   "cell_type": "code",
   "execution_count": 17,
   "id": "34a54f7a",
   "metadata": {},
   "outputs": [
    {
     "name": "stdout",
     "output_type": "stream",
     "text": [
      "Bugün karpuz yedim.\n"
     ]
    }
   ],
   "source": [
    "txt = \"Bugün kavun yedim.\"\n",
    "x = re.sub(\"kavun\", \"karpuz\", txt)\n",
    "print(x)"
   ]
  },
  {
   "cell_type": "markdown",
   "id": "7fb0e91d",
   "metadata": {},
   "source": [
    "yukarıdaki açıklamada `sub()` metodu ile kaç eşleşmede değişiklik yapılacağı, metodun 4. parametresinde (count) belirtilebileceğinden bahsetmiştik. Basit bir örnek yapalım;"
   ]
  },
  {
   "cell_type": "code",
   "execution_count": 19,
   "id": "e5c80014",
   "metadata": {},
   "outputs": [
    {
     "name": "stdout",
     "output_type": "stream",
     "text": [
      "Çiz Çiz Yaz Bir Kenara Yaz\n"
     ]
    }
   ],
   "source": [
    "txt = \"Yaz Yaz Yaz Bir Kenara Yaz\"\n",
    "x = re.sub(\"Yaz\", \"Çiz\", txt, 2)\n",
    "print(x)"
   ]
  },
  {
   "cell_type": "markdown",
   "id": "22bd1c5a",
   "metadata": {},
   "source": [
    "### Kaynaklar:\n",
    "* https://python-istihza.yazbel.com/standart_moduller/regex.html\n",
    "* https://python.sitesi.web.tr/python-regex.html\n",
    "* https://medium.com/@zeynepengin/regular-expressions-d%C3%BCzenli-i%CC%87fadeler-2e75f44d4f6f\n",
    "* https://www.youtube.com/watch?v=bKWzIvYZmfA"
   ]
  }
 ],
 "metadata": {
  "kernelspec": {
   "display_name": "Python 3 (ipykernel)",
   "language": "python",
   "name": "python3"
  },
  "language_info": {
   "codemirror_mode": {
    "name": "ipython",
    "version": 3
   },
   "file_extension": ".py",
   "mimetype": "text/x-python",
   "name": "python",
   "nbconvert_exporter": "python",
   "pygments_lexer": "ipython3",
   "version": "3.10.12"
  }
 },
 "nbformat": 4,
 "nbformat_minor": 5
}
